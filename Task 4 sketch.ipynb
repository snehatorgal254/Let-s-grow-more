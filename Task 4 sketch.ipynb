{
 "cells": [
  {
   "cell_type": "code",
   "execution_count": 1,
   "id": "feb559e0",
   "metadata": {},
   "outputs": [
    {
     "name": "stdout",
     "output_type": "stream",
     "text": [
      "Requirement already satisfied: opencv-python in c:\\users\\sneha torgal\\anaconda3\\lib\\site-packages (4.8.0.76)\n",
      "Requirement already satisfied: numpy>=1.21.2 in c:\\users\\sneha torgal\\anaconda3\\lib\\site-packages (from opencv-python) (1.24.3)\n"
     ]
    }
   ],
   "source": [
    "!pip install opencv-python\n"
   ]
  },
  {
   "cell_type": "code",
   "execution_count": 2,
   "id": "a8a11bdc",
   "metadata": {},
   "outputs": [],
   "source": [
    "import cv2\n",
    "import numpy as np"
   ]
  },
  {
   "cell_type": "code",
   "execution_count": 3,
   "id": "d72b9729",
   "metadata": {},
   "outputs": [],
   "source": [
    "img = cv2.imread('2.jpg')"
   ]
  },
  {
   "cell_type": "code",
   "execution_count": 4,
   "id": "9d17324d",
   "metadata": {},
   "outputs": [
    {
     "data": {
      "text/plain": [
       "-1"
      ]
     },
     "execution_count": 4,
     "metadata": {},
     "output_type": "execute_result"
    }
   ],
   "source": [
    "cv2.imshow(\"pa\", img)\n",
    "cv2.waitKey(0)"
   ]
  },
  {
   "cell_type": "code",
   "execution_count": 5,
   "id": "b5037bc7",
   "metadata": {},
   "outputs": [
    {
     "data": {
      "text/plain": [
       "array([[[ 93, 125, 106],\n",
       "        [ 55,  87,  68],\n",
       "        [ 35,  69,  52],\n",
       "        ...,\n",
       "        [ 82,  96,  85],\n",
       "        [104, 118, 106],\n",
       "        [113, 127, 115]],\n",
       "\n",
       "       [[101, 131, 112],\n",
       "        [ 55,  85,  66],\n",
       "        [ 39,  68,  52],\n",
       "        ...,\n",
       "        [ 79,  93,  81],\n",
       "        [102, 114, 102],\n",
       "        [116, 130, 118]],\n",
       "\n",
       "       [[108, 133, 113],\n",
       "        [ 54,  81,  61],\n",
       "        [ 44,  70,  52],\n",
       "        ...,\n",
       "        [ 88, 100,  88],\n",
       "        [108, 118, 106],\n",
       "        [125, 138, 124]],\n",
       "\n",
       "       ...,\n",
       "\n",
       "       [[ 62,  74, 102],\n",
       "        [ 63,  75, 103],\n",
       "        [ 64,  76, 104],\n",
       "        ...,\n",
       "        [120, 134, 157],\n",
       "        [124, 138, 161],\n",
       "        [128, 142, 165]],\n",
       "\n",
       "       [[ 65,  77, 105],\n",
       "        [ 67,  79, 107],\n",
       "        [ 69,  81, 109],\n",
       "        ...,\n",
       "        [124, 138, 161],\n",
       "        [128, 142, 165],\n",
       "        [132, 146, 169]],\n",
       "\n",
       "       [[ 66,  78, 106],\n",
       "        [ 69,  81, 109],\n",
       "        [ 72,  84, 112],\n",
       "        ...,\n",
       "        [130, 144, 167],\n",
       "        [133, 147, 170],\n",
       "        [137, 151, 174]]], dtype=uint8)"
      ]
     },
     "execution_count": 5,
     "metadata": {},
     "output_type": "execute_result"
    }
   ],
   "source": [
    "img"
   ]
  },
  {
   "cell_type": "code",
   "execution_count": 6,
   "id": "9eac898a",
   "metadata": {},
   "outputs": [
    {
     "data": {
      "text/plain": [
       "-1"
      ]
     },
     "execution_count": 6,
     "metadata": {},
     "output_type": "execute_result"
    }
   ],
   "source": [
    "gray_img = cv2.cvtColor(img, cv2.COLOR_BGR2GRAY)\n",
    "cv2.imshow(\"ma\", gray_img)\n",
    "cv2.waitKey(0)"
   ]
  },
  {
   "cell_type": "code",
   "execution_count": 7,
   "id": "5ff3a18d",
   "metadata": {},
   "outputs": [
    {
     "data": {
      "text/plain": [
       "-1"
      ]
     },
     "execution_count": 7,
     "metadata": {},
     "output_type": "execute_result"
    }
   ],
   "source": [
    "inverted_img = 255 - gray_img\n",
    "cv2.imshow(\"Inverted\", inverted_img)\n",
    "cv2.waitKey()"
   ]
  },
  {
   "cell_type": "code",
   "execution_count": 8,
   "id": "acf0c936",
   "metadata": {},
   "outputs": [],
   "source": [
    "kernel_size = (21, 21)\n",
    "blurred_img = cv2.boxFilter(inverted_img, -1, kernel_size)"
   ]
  },
  {
   "cell_type": "code",
   "execution_count": 9,
   "id": "0b6aa764",
   "metadata": {},
   "outputs": [
    {
     "data": {
      "text/plain": [
       "-1"
      ]
     },
     "execution_count": 9,
     "metadata": {},
     "output_type": "execute_result"
    }
   ],
   "source": [
    "pencil_sketch = cv2.divide(gray_img, 255 - blurred_img, scale=200)\n",
    "cv2.imshow(\"Sketch\", pencil_sketch)\n",
    "cv2.waitKey(0)"
   ]
  },
  {
   "cell_type": "code",
   "execution_count": 10,
   "id": "acb2dece",
   "metadata": {},
   "outputs": [
    {
     "data": {
      "text/plain": [
       "True"
      ]
     },
     "execution_count": 10,
     "metadata": {},
     "output_type": "execute_result"
    }
   ],
   "source": [
    "cv2.imwrite('output_sketch_boxfilter.jpg', pencil_sketch)"
   ]
  },
  {
   "cell_type": "code",
   "execution_count": 12,
   "id": "6fbf1bef",
   "metadata": {},
   "outputs": [
    {
     "data": {
      "text/plain": [
       "-1"
      ]
     },
     "execution_count": 12,
     "metadata": {},
     "output_type": "execute_result"
    }
   ],
   "source": [
    "cv2.imshow(\"original image\", img)\n",
    "cv2.imshow(\"pencil sketch\", pencil_sketch)\n",
    "cv2.waitKey(0)"
   ]
  },
  {
   "cell_type": "code",
   "execution_count": null,
   "id": "48544936",
   "metadata": {},
   "outputs": [],
   "source": []
  },
  {
   "cell_type": "code",
   "execution_count": null,
   "id": "a2795ff8",
   "metadata": {},
   "outputs": [],
   "source": []
  }
 ],
 "metadata": {
  "kernelspec": {
   "display_name": "Python 3 (ipykernel)",
   "language": "python",
   "name": "python3"
  },
  "language_info": {
   "codemirror_mode": {
    "name": "ipython",
    "version": 3
   },
   "file_extension": ".py",
   "mimetype": "text/x-python",
   "name": "python",
   "nbconvert_exporter": "python",
   "pygments_lexer": "ipython3",
   "version": "3.10.13"
  }
 },
 "nbformat": 4,
 "nbformat_minor": 5
}
