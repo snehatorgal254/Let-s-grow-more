{
 "cells": [
  {
   "cell_type": "markdown",
   "id": "b2efd7e1",
   "metadata": {},
   "source": [
    "# 1. Find/Create labeled dataset for NN"
   ]
  },
  {
   "cell_type": "markdown",
   "id": "f90297f3",
   "metadata": {},
   "source": [
    "### STEP 1.1"
   ]
  },
  {
   "cell_type": "code",
   "execution_count": 2,
   "id": "d981f2c9",
   "metadata": {},
   "outputs": [
    {
     "name": "stderr",
     "output_type": "stream",
     "text": [
      "Cloning into 'python-mnist'...\n",
      "'.' is not recognized as an internal or external command,\n",
      "operable program or batch file.\n"
     ]
    },
    {
     "name": "stdout",
     "output_type": "stream",
     "text": [
      "Collecting emnist\n",
      "  Downloading emnist-0.0-py3-none-any.whl (7.3 kB)\n",
      "Requirement already satisfied: numpy in c:\\users\\user\\anaconda3\\envs\\tensorflow\\lib\\site-packages (from emnist) (1.24.4)\n",
      "Requirement already satisfied: requests in c:\\users\\user\\anaconda3\\envs\\tensorflow\\lib\\site-packages (from emnist) (2.26.0)\n",
      "Requirement already satisfied: tqdm in c:\\users\\user\\anaconda3\\envs\\tensorflow\\lib\\site-packages (from emnist) (4.62.3)\n",
      "Requirement already satisfied: certifi>=2017.4.17 in c:\\users\\user\\anaconda3\\envs\\tensorflow\\lib\\site-packages (from requests->emnist) (2022.6.15)\n",
      "Requirement already satisfied: idna<4,>=2.5 in c:\\users\\user\\anaconda3\\envs\\tensorflow\\lib\\site-packages (from requests->emnist) (3.3)\n",
      "Requirement already satisfied: charset-normalizer~=2.0.0 in c:\\users\\user\\anaconda3\\envs\\tensorflow\\lib\\site-packages (from requests->emnist) (2.0.7)\n",
      "Requirement already satisfied: urllib3<1.27,>=1.21.1 in c:\\users\\user\\anaconda3\\envs\\tensorflow\\lib\\site-packages (from requests->emnist) (1.26.7)\n",
      "Requirement already satisfied: colorama in c:\\users\\user\\anaconda3\\envs\\tensorflow\\lib\\site-packages (from tqdm->emnist) (0.4.4)\n",
      "Installing collected packages: emnist\n",
      "Successfully installed emnist-0.0\n"
     ]
    },
    {
     "name": "stderr",
     "output_type": "stream",
     "text": [
      "WARNING: Ignoring invalid distribution -illow (c:\\users\\user\\anaconda3\\envs\\tensorflow\\lib\\site-packages)\n",
      "WARNING: Ignoring invalid distribution -illow (c:\\users\\user\\anaconda3\\envs\\tensorflow\\lib\\site-packages)\n",
      "WARNING: Retrying (Retry(total=4, connect=None, read=None, redirect=None, status=None)) after connection broken by 'NewConnectionError('<pip._vendor.urllib3.connection.HTTPSConnection object at 0x000001DFB2812B50>: Failed to establish a new connection: [Errno 11001] getaddrinfo failed')': /simple/emnist/\n",
      "WARNING: Retrying (Retry(total=3, connect=None, read=None, redirect=None, status=None)) after connection broken by 'NewConnectionError('<pip._vendor.urllib3.connection.HTTPSConnection object at 0x000001DFB2812880>: Failed to establish a new connection: [Errno 11001] getaddrinfo failed')': /simple/emnist/\n",
      "  WARNING: Retrying (Retry(total=4, connect=None, read=None, redirect=None, status=None)) after connection broken by 'NewConnectionError('<pip._vendor.urllib3.connection.HTTPSConnection object at 0x000001DFB28912B0>: Failed to establish a new connection: [Errno 11001] getaddrinfo failed')': /packages/d1/f4/78b24acbef9e8fe976dda700f16a3606f3b8363b015bc555f8050fbbd8ac/emnist-0.0-py3-none-any.whl\n",
      "  WARNING: Retrying (Retry(total=3, connect=None, read=None, redirect=None, status=None)) after connection broken by 'NewConnectionError('<pip._vendor.urllib3.connection.HTTPSConnection object at 0x000001DFB28912E0>: Failed to establish a new connection: [Errno 11001] getaddrinfo failed')': /packages/d1/f4/78b24acbef9e8fe976dda700f16a3606f3b8363b015bc555f8050fbbd8ac/emnist-0.0-py3-none-any.whl\n",
      "WARNING: Ignoring invalid distribution -illow (c:\\users\\user\\anaconda3\\envs\\tensorflow\\lib\\site-packages)\n",
      "WARNING: Ignoring invalid distribution -illow (c:\\users\\user\\anaconda3\\envs\\tensorflow\\lib\\site-packages)\n",
      "WARNING: Ignoring invalid distribution -illow (c:\\users\\user\\anaconda3\\envs\\tensorflow\\lib\\site-packages)\n",
      "WARNING: Ignoring invalid distribution -illow (c:\\users\\user\\anaconda3\\envs\\tensorflow\\lib\\site-packages)\n",
      "WARNING: Ignoring invalid distribution -illow (c:\\users\\user\\anaconda3\\envs\\tensorflow\\lib\\site-packages)\n",
      "C:\\Users\\user\\anaconda3\\envs\\tensorflow\\lib\\site-packages\\numpy\\_distributor_init.py:30: UserWarning: loaded more than 1 DLL from .libs:\n",
      "C:\\Users\\user\\anaconda3\\envs\\tensorflow\\lib\\site-packages\\numpy\\.libs\\libopenblas.WCDJNK7YVMPZQ2ME2ZZHJJRJ3JIKNDB7.gfortran-win_amd64.dll\n",
      "C:\\Users\\user\\anaconda3\\envs\\tensorflow\\lib\\site-packages\\numpy\\.libs\\libopenblas64__v0.3.21-gcc_10_3_0.dll\n",
      "  warnings.warn(\"loaded more than 1 DLL from .libs:\"\n"
     ]
    },
    {
     "name": "stdout",
     "output_type": "stream",
     "text": [
      "Imported the EMNIST libraries we need!\n"
     ]
    }
   ],
   "source": [
    "!git clone https://github.com/sorki/python-mnist\n",
    "!./python-mnist/bin/mnist_get_data.sh\n",
    "!pip3 install emnist"
   ]
  },
  {
   "cell_type": "code",
   "execution_count": 2,
   "id": "0e61895c",
   "metadata": {},
   "outputs": [
    {
     "name": "stderr",
     "output_type": "stream",
     "text": [
      "C:\\Users\\user\\anaconda3\\envs\\tensorflow\\lib\\site-packages\\numpy\\_distributor_init.py:30: UserWarning: loaded more than 1 DLL from .libs:\n",
      "C:\\Users\\user\\anaconda3\\envs\\tensorflow\\lib\\site-packages\\numpy\\.libs\\libopenblas.WCDJNK7YVMPZQ2ME2ZZHJJRJ3JIKNDB7.gfortran-win_amd64.dll\n",
      "C:\\Users\\user\\anaconda3\\envs\\tensorflow\\lib\\site-packages\\numpy\\.libs\\libopenblas64__v0.3.21-gcc_10_3_0.dll\n",
      "  warnings.warn(\"loaded more than 1 DLL from .libs:\"\n"
     ]
    },
    {
     "name": "stdout",
     "output_type": "stream",
     "text": [
      "Imported the EMNIST libraries we need!\n"
     ]
    }
   ],
   "source": [
    "from emnist import extract_training_samples\n",
    "\n",
    "print(\"Imported the EMNIST libraries we need!\")"
   ]
  },
  {
   "cell_type": "markdown",
   "id": "8f0b91c0",
   "metadata": {},
   "source": [
    "### STEP 1.2"
   ]
  },
  {
   "cell_type": "code",
   "execution_count": 13,
   "id": "08c5f54f",
   "metadata": {},
   "outputs": [],
   "source": [
    "# Grab the data from the OpenML website\n",
    "# X will be our images and y will be the labels\n",
    "X, y = extract_training_samples('letters')"
   ]
  },
  {
   "cell_type": "code",
   "execution_count": 14,
   "id": "960a8a75",
   "metadata": {},
   "outputs": [],
   "source": [
    "# Make sure that every pixel in all of the images is a value between 0 and 1\n",
    "# Preprocessing\n",
    "X = X / 255"
   ]
  },
  {
   "cell_type": "code",
   "execution_count": 15,
   "id": "54656c5a",
   "metadata": {},
   "outputs": [],
   "source": [
    "# Use the first 60000 instances as training and the next 10000 as testing\n",
    "X_train, X_test = X[:60000], X[60000:70000]\n",
    "y_train, y_test = y[:60000], y[60000:70000]"
   ]
  },
  {
   "cell_type": "code",
   "execution_count": 17,
   "id": "84213634",
   "metadata": {},
   "outputs": [],
   "source": [
    "# We need to record the number of samples in each dataset and the number of pixels in each image\n",
    "X_train = X_train.reshape(60000,784)\n",
    "X_test = X_test.reshape(10000,784)"
   ]
  },
  {
   "cell_type": "markdown",
   "id": "b9401d25",
   "metadata": {},
   "source": [
    "### STEP 1.3"
   ]
  },
  {
   "cell_type": "code",
   "execution_count": 20,
   "id": "8cbd53f4",
   "metadata": {},
   "outputs": [
    {
     "name": "stdout",
     "output_type": "stream",
     "text": [
      "Image Label: y\n"
     ]
    },
    {
     "data": {
      "text/plain": [
       "<matplotlib.image.AxesImage at 0x29f4ad93df0>"
      ]
     },
     "execution_count": 20,
     "metadata": {},
     "output_type": "execute_result"
    },
    {
     "data": {
      "image/png": "[encoded data removed]",
      "text/plain": [
       "<Figure size 432x288 with 1 Axes>"
      ]
     },
     "metadata": {
      "needs_background": "light"
     },
     "output_type": "display_data"
    }
   ],
   "source": [
    "import matplotlib.pyplot as plt\n",
    "\n",
    "img_index = 8888 \n",
    "img = X_train[img_index]\n",
    "print(\"Image Label: \" + str(chr(y_train[img_index]+96)))\n",
    "plt.imshow(img.reshape((28,28)))"
   ]
  },
  {
   "cell_type": "markdown",
   "id": "4010ad40",
   "metadata": {},
   "source": [
    "# 2. Create a neural network"
   ]
  },
  {
   "cell_type": "markdown",
   "id": "b13e30b8",
   "metadata": {},
   "source": [
    "### STEP 2.1"
   ]
  },
  {
   "cell_type": "code",
   "execution_count": 21,
   "id": "faab99d6",
   "metadata": {},
   "outputs": [
    {
     "name": "stdout",
     "output_type": "stream",
     "text": [
      "Created our first MLP network\n"
     ]
    }
   ],
   "source": [
    "# These two lines import the ML libraries we need\n",
    "from sklearn.datasets import fetch_openml\n",
    "from sklearn.neural_network import MLPClassifier\n",
    "\n",
    "# This creates our first MLP with 1 hidden layer with 50 neurons and sets it to run through the data 20 times\n",
    "mlp1 = MLPClassifier(hidden_layer_sizes=(50,), max_iter=20, alpha=1e-4,\n",
    "                    solver='sgd', verbose=10, tol=1e-4, random_state=1,\n",
    "                    learning_rate_init=.1)\n",
    "\n",
    "print(\"Created our first MLP network\")"
   ]
  },
  {
   "cell_type": "markdown",
   "id": "19b50460",
   "metadata": {},
   "source": [
    "### STEP 3.1"
   ]
  },
  {
   "cell_type": "code",
   "execution_count": 22,
   "id": "d5419f57",
   "metadata": {},
   "outputs": [
    {
     "name": "stdout",
     "output_type": "stream",
     "text": [
      "Iteration 1, loss = 1.06351395\n",
      "Iteration 2, loss = 0.64844650\n",
      "Iteration 3, loss = 0.56103245\n",
      "Iteration 4, loss = 0.51987725\n",
      "Iteration 5, loss = 0.49182099\n",
      "Iteration 6, loss = 0.47301057\n",
      "Iteration 7, loss = 0.45839220\n",
      "Iteration 8, loss = 0.44603836\n",
      "Iteration 9, loss = 0.43479721\n",
      "Iteration 10, loss = 0.42809575\n",
      "Iteration 11, loss = 0.41639233\n",
      "Iteration 12, loss = 0.40782908\n",
      "Iteration 13, loss = 0.40548360\n",
      "Iteration 14, loss = 0.39965983\n",
      "Iteration 15, loss = 0.39296832\n",
      "Iteration 16, loss = 0.38883219\n",
      "Iteration 17, loss = 0.38393955\n",
      "Iteration 18, loss = 0.37948343\n",
      "Iteration 19, loss = 0.37307616\n",
      "Iteration 20, loss = 0.37166732\n"
     ]
    },
    {
     "name": "stderr",
     "output_type": "stream",
     "text": [
      "C:\\Users\\user\\anaconda3\\envs\\tensorflow\\lib\\site-packages\\sklearn\\neural_network\\_multilayer_perceptron.py:691: ConvergenceWarning: Stochastic Optimizer: Maximum iterations (20) reached and the optimization hasn't converged yet.\n",
      "  warnings.warn(\n"
     ]
    },
    {
     "name": "stdout",
     "output_type": "stream",
     "text": [
      "Training set score: 0.886500\n",
      "Test set score: 0.840800\n"
     ]
    }
   ],
   "source": [
    "mlp1.fit(X_train, y_train)\n",
    "print(\"Training set score: %f\" % mlp1.score(X_train, y_train))\n",
    "print(\"Test set score: %f\" % mlp1.score(X_test, y_test))"
   ]
  },
  {
   "cell_type": "markdown",
   "id": "7457fdfa",
   "metadata": {},
   "source": [
    "### STEP 3.2"
   ]
  },
  {
   "cell_type": "code",
   "execution_count": 23,
   "id": "c4d232e0",
   "metadata": {},
   "outputs": [
    {
     "data": {
      "text/plain": [
       "<matplotlib.image.AxesImage at 0x29f16d77f40>"
      ]
     },
     "execution_count": 23,
     "metadata": {},
     "output_type": "execute_result"
    },
    {
     "data": {
      "image/png": "[encoded data removed]",
      "text/plain": [
       "<Figure size 288x288 with 1 Axes>"
      ]
     },
     "metadata": {
      "needs_background": "light"
     },
     "output_type": "display_data"
    }
   ],
   "source": [
    "# First let's initialize a list with all the predicted values from the training set\n",
    "y_pred = mlp1.predict(X_test)\n",
    "\n",
    "# Now let's visualize the errors between the predictions and the actual labels using a confusion matrix\n",
    "from sklearn.metrics import confusion_matrix\n",
    "cm = confusion_matrix(y_test, y_pred)\n",
    "plt.matshow(cm)"
   ]
  },
  {
   "cell_type": "markdown",
   "id": "c4c8a50d",
   "metadata": {},
   "source": [
    "### STEP 3.3"
   ]
  },
  {
   "cell_type": "code",
   "execution_count": 28,
   "id": "d74faf1e",
   "metadata": {},
   "outputs": [
    {
     "name": "stdout",
     "output_type": "stream",
     "text": [
      "There were 84 times that the letter i was predicted to be the letter l.\n"
     ]
    },
    {
     "data": {
      "image/png": "[encoded data removed]",
      "text/plain": [
       "<Figure size 432x288 with 1 Axes>"
      ]
     },
     "metadata": {
      "needs_background": "light"
     },
     "output_type": "display_data"
    }
   ],
   "source": [
    "# You can change this to any letters that you think the neural network may have confused...\n",
    "predicted_letter = 'l'\n",
    "actual_letter = 'i'\n",
    "\n",
    "\n",
    "# This code counts all mistakes for the letters above\n",
    "mistake_list = []\n",
    "for i in range(len(y_test)):\n",
    "    if (y_test[i] == (ord(actual_letter) - 96) and y_pred[i] == (ord(predicted_letter) - 96)):\n",
    "        mistake_list.append(i)\n",
    "print(\"There were \" + str(len(mistake_list)) + \" times that the letter \" + actual_letter + \" was predicted to be the letter \" + predicted_letter + \".\")\n",
    "\n",
    "# Once we know how many mistakes were made, we can change this to see an image of a particular one\n",
    "mistake_to_show = 4 # <<< e.g., change this to 3 if you want to see the 4th mistake\n",
    "\n",
    "# This code checks that the number mistake you asked for can be shown and if so, displays an image of it\n",
    "if (len(mistake_list)> mistake_to_show):\n",
    "    img = X_test[mistake_list[mistake_to_show]]\n",
    "    plt.imshow(img.reshape((28,28)))\n",
    "else:\n",
    "    print(\"Couldn't show mistake number \" + str(mistake_to_show + 1) + \" because there were only \" + str(len(mistake_list)) + \" mistakes to show!\")"
   ]
  },
  {
   "cell_type": "markdown",
   "id": "95af1c60",
   "metadata": {},
   "source": [
    "### STEP 3.4"
   ]
  },
  {
   "cell_type": "code",
   "execution_count": 29,
   "id": "1a60bb4f",
   "metadata": {},
   "outputs": [
    {
     "name": "stdout",
     "output_type": "stream",
     "text": [
      "Iteration 1, loss = 1.15599672\n",
      "Iteration 2, loss = 0.54834774\n",
      "Iteration 3, loss = 0.44784035\n",
      "Iteration 4, loss = 0.39865207\n",
      "Iteration 5, loss = 0.36308811\n",
      "Iteration 6, loss = 0.33567397\n",
      "Iteration 7, loss = 0.31904877\n",
      "Iteration 8, loss = 0.29485588\n",
      "Iteration 9, loss = 0.27846574\n",
      "Iteration 10, loss = 0.26938228\n",
      "Iteration 11, loss = 0.25802023\n",
      "Iteration 12, loss = 0.25723763\n",
      "Iteration 13, loss = 0.24092200\n",
      "Iteration 14, loss = 0.23226412\n",
      "Iteration 15, loss = 0.23512006\n",
      "Iteration 16, loss = 0.22575190\n",
      "Iteration 17, loss = 0.22427105\n",
      "Iteration 18, loss = 0.22087140\n",
      "Iteration 19, loss = 0.21420822\n",
      "Iteration 20, loss = 0.20687608\n",
      "Iteration 21, loss = 0.20286756\n",
      "Iteration 22, loss = 0.20410037\n",
      "Iteration 23, loss = 0.19924623\n",
      "Iteration 24, loss = 0.19453563\n",
      "Iteration 25, loss = 0.20100520\n",
      "Iteration 26, loss = 0.19723902\n",
      "Iteration 27, loss = 0.19461739\n",
      "Iteration 28, loss = 0.19810787\n",
      "Iteration 29, loss = 0.19411719\n",
      "Iteration 30, loss = 0.19403925\n",
      "Iteration 31, loss = 0.18427764\n",
      "Iteration 32, loss = 0.17936913\n",
      "Iteration 33, loss = 0.18794325\n",
      "Iteration 34, loss = 0.18921546\n",
      "Iteration 35, loss = 0.17923619\n",
      "Iteration 36, loss = 0.18739129\n",
      "Iteration 37, loss = 0.17783602\n",
      "Iteration 38, loss = 0.18085960\n",
      "Iteration 39, loss = 0.18319824\n",
      "Iteration 40, loss = 0.17591093\n",
      "Iteration 41, loss = 0.18045202\n",
      "Iteration 42, loss = 0.17807562\n",
      "Iteration 43, loss = 0.17308203\n",
      "Iteration 44, loss = 0.17779780\n",
      "Iteration 45, loss = 0.16804696\n",
      "Iteration 46, loss = 0.17823998\n",
      "Iteration 47, loss = 0.17307166\n",
      "Iteration 48, loss = 0.18442473\n",
      "Iteration 49, loss = 0.18199847\n",
      "Iteration 50, loss = 0.17013298\n"
     ]
    },
    {
     "name": "stderr",
     "output_type": "stream",
     "text": [
      "C:\\Users\\user\\anaconda3\\envs\\tensorflow\\lib\\site-packages\\sklearn\\neural_network\\_multilayer_perceptron.py:691: ConvergenceWarning: Stochastic Optimizer: Maximum iterations (50) reached and the optimization hasn't converged yet.\n",
      "  warnings.warn(\n"
     ]
    },
    {
     "name": "stdout",
     "output_type": "stream",
     "text": [
      "Training set score: 0.950067\n",
      "Test set score: 0.889100\n"
     ]
    }
   ],
   "source": [
    "# Change some of the values in the below statement and re-run to see how they \n",
    "# affect performance!\n",
    "mlp2 = MLPClassifier(hidden_layer_sizes=(100,100,100,100,100,), max_iter=50, alpha=1e-4,\n",
    "                    solver='sgd', verbose=10, tol=1e-4, random_state=1,\n",
    "                    learning_rate_init=.1)\n",
    "mlp2.fit(X_train, y_train)\n",
    "print(\"Training set score: %f\" % mlp2.score(X_train, y_train))\n",
    "print(\"Test set score: %f\" % mlp2.score(X_test, y_test))"
   ]
  },
  {
   "cell_type": "markdown",
   "id": "d2765f5d",
   "metadata": {},
   "source": [
    "# 4. Testing on custom data"
   ]
  },
  {
   "cell_type": "markdown",
   "id": "0dfc9d4c",
   "metadata": {},
   "source": [
    "### STEP 4.1"
   ]
  },
  {
   "cell_type": "code",
   "execution_count": 62,
   "id": "35575f3c",
   "metadata": {},
   "outputs": [
    {
     "name": "stdout",
     "output_type": "stream",
     "text": [
      "00.jpg\n",
      "01.jpg\n",
      "02.jpg\n",
      "03.jpg\n",
      "04.jpg\n",
      "05.jpg\n",
      "06.jpg\n",
      "07.jpg\n",
      "08.jpg\n",
      "09.jpg\n",
      "10.jpg\n",
      "11.jpg\n",
      "12.jpg\n",
      "13.jpg\n",
      "14.jpg\n",
      "15.jpg\n",
      "16.jpg\n",
      "17.jpg\n",
      "18.jpg\n",
      "19.jpg\n",
      "20.jpg\n",
      "21.jpg\n",
      "22.jpg\n",
      "23.jpg\n",
      "24.jpg\n",
      "25.jpg\n",
      "26.jpg\n",
      "27.jpg\n",
      "28.jpg\n",
      "29.jpg\n",
      "30.jpg\n",
      "31.jpg\n",
      "32.jpg\n",
      "33.jpg\n",
      "34.jpg\n",
      "35.jpg\n",
      "36.jpg\n",
      "37.jpg\n",
      "38.jpg\n",
      "39.jpg\n",
      "40.jpg\n",
      "41.jpg\n",
      "42.jpg\n",
      "43.jpg\n",
      "44.jpg\n",
      "45.jpg\n",
      "46.jpg\n",
      "47.jpg\n",
      "48.jpg\n",
      "49.jpg\n",
      "50.jpg\n",
      "51.jpg\n",
      "52.jpg\n",
      "53.jpg\n",
      "54.jpg\n",
      "55.jpg\n",
      "56.jpg\n",
      "57.jpg\n",
      "58.jpg\n",
      "59.jpg\n",
      "60.jpg\n",
      "61.jpg\n",
      "62.jpg\n",
      "63.jpg\n",
      "64.jpg\n",
      "65.jpg\n",
      "66.jpg\n",
      "67.jpg\n",
      "68.jpg\n",
      "69.jpg\n",
      "70.jpg\n",
      "71.jpg\n",
      "72.jpg\n",
      "73.jpg\n",
      "74.jpg\n",
      "75.jpg\n",
      "76.jpg\n",
      "77.jpg\n",
      "78.jpg\n",
      "79.jpg\n",
      "80.jpg\n",
      "81.jpg\n",
      "82.jpg\n",
      "83.jpg\n",
      "84.jpg\n",
      "85.jpg\n",
      "86.jpg\n",
      "87.jpg\n",
      "88.jpg\n",
      "89.jpg\n",
      "90.jpg\n",
      "91.jpg\n",
      "92.jpg\n",
      "93.jpg\n",
      "94.jpg\n",
      "95.jpg\n",
      "96.jpg\n",
      "97.jpg\n",
      "98.jpg\n",
      "99.jpg\n",
      "C:\\Users\\user\\lab1-neural-networks\n"
     ]
    }
   ],
   "source": [
    "# Clone the GitHub repository if it doesn't exist\n",
    "import os\n",
    "if not os.path.exists(\"lab1-neural-networks\"):\n",
    "    !git clone https://github.com/crash-course-ai/lab1-neural-networks.git\n",
    "\n",
    "# List the files in the \"letters_mod\" directory\n",
    "import os\n",
    "if os.path.exists(\"lab1-neural-networks/letters_mod\"):\n",
    "    files = os.listdir(\"lab1-neural-networks/letters_mod\")\n",
    "    files.sort()\n",
    "    for file in files:\n",
    "        print(file)\n",
    "else:\n",
    "    print(\"The 'letters_mod' directory does not exist.\")\n",
    "\n",
    "# Get the current working directory\n",
    "print(os.getcwd())"
   ]
  },
  {
   "cell_type": "markdown",
   "id": "3ecfc360",
   "metadata": {},
   "source": [
    "### STEP 4.2"
   ]
  },
  {
   "cell_type": "code",
   "execution_count": 64,
   "id": "ed432379",
   "metadata": {},
   "outputs": [
    {
     "name": "stdout",
     "output_type": "stream",
     "text": [
      "Imported the scanned images.\n"
     ]
    },
    {
     "data": {
      "image/png": "[encoded data removed]",
      "text/plain": [
       "<Figure size 432x288 with 1 Axes>"
      ]
     },
     "metadata": {
      "needs_background": "light"
     },
     "output_type": "display_data"
    }
   ],
   "source": [
    "# These libraries let us import the letters, resize them, and print them out\n",
    "import cv2\n",
    "import matplotlib.pyplot as plt\n",
    "\n",
    "# This code processes all the scanned images and adds them to the handwritten_story\n",
    "handwritten_story = []\n",
    "\n",
    "# Update the file paths to use the cloned repository directory\n",
    "for i in range(len(files)):\n",
    "    img = cv2.imread(\"lab1-neural-networks/letters_mod/\" + files[i], cv2.IMREAD_GRAYSCALE)\n",
    "    handwritten_story.append(img)\n",
    "\n",
    "print(\"Imported the scanned images.\")\n",
    "\n",
    "# Display one of the imported images\n",
    "plt.imshow(handwritten_story[7])  # <--- Change this index to see different letters\n",
    "plt.show()  # Show the image\n"
   ]
  },
  {
   "cell_type": "markdown",
   "id": "aa935a07",
   "metadata": {},
   "source": [
    "### STEP 4.3"
   ]
  },
  {
   "cell_type": "code",
   "execution_count": 65,
   "id": "32fd9476",
   "metadata": {},
   "outputs": [
    {
     "name": "stdout",
     "output_type": "stream",
     "text": [
      "Conversion to typed story complete!\n",
      "tkejfauctjiujourjpowerjsuppliesjijfeccjinjloyejthejwayjyqurjaatteryjoersjskpwkyjamojthenjalljarjprcr\n"
     ]
    }
   ],
   "source": [
    "# These are libraries we need to do some math on the image\n",
    "# to be able to give it to the MLP in the right format and to resize it to 28x28 pixels\n",
    "import numpy\n",
    "import cv2\n",
    "\n",
    "typed_story = \"\"\n",
    "for letter in handwritten_story:\n",
    "    letter = cv2.resize(letter, (28,28), interpolation = cv2.INTER_CUBIC)\n",
    "    single_item_array = (numpy.array(letter)).reshape(1,784)\n",
    "    prediction = mlp2.predict(single_item_array)\n",
    "    typed_story = typed_story + str(chr(prediction[0]+96))\n",
    "    \n",
    "print(\"Conversion to typed story complete!\")\n",
    "print(typed_story)"
   ]
  },
  {
   "cell_type": "markdown",
   "id": "a3ea5b2c",
   "metadata": {},
   "source": [
    "### STEP 4.4"
   ]
  },
  {
   "cell_type": "code",
   "execution_count": 68,
   "id": "469cbced",
   "metadata": {},
   "outputs": [
    {
     "name": "stdout",
     "output_type": "stream",
     "text": [
      "Conversion to typed story complete!\n",
      "tke fauct iu our power supplies i fecc in loye the way yqur aattery oers skpwky amo then all ar prcr\n"
     ]
    }
   ],
   "source": [
    "# This is a library we need to do some math on the image to be able to give it to the MLP in the right format\n",
    "import numpy\n",
    "\n",
    "typed_story = \"\"\n",
    "for letter in handwritten_story:\n",
    "    letter = cv2.resize(letter, (28,28), interpolation = cv2.INTER_CUBIC)\n",
    "    \n",
    "    #this bit of code checks to see if the image is just a blank space by looking at the color of all the pixels summed\n",
    "    total_pixel_value = 0\n",
    "    for j in range(28):\n",
    "        for k in range(28):\n",
    "              total_pixel_value += letter[j,k]\n",
    "    if total_pixel_value < 20:\n",
    "        typed_story = typed_story + \" \"\n",
    "    else:         #if it NOT a blank, it actually runs the prediction algorithm on it\n",
    "        single_item_array = (numpy.array(letter)).reshape(1,784)\n",
    "        prediction = mlp2.predict(single_item_array)\n",
    "        typed_story = typed_story + str(chr(prediction[0]+96))\n",
    "\n",
    "print(\"Conversion to typed story complete!\")\n",
    "print(typed_story)"
   ]
  },
  {
   "cell_type": "markdown",
   "id": "77894c26",
   "metadata": {},
   "source": [
    "### STEP 4.5"
   ]
  },
  {
   "cell_type": "code",
   "execution_count": 72,
   "id": "4bd34a81",
   "metadata": {},
   "outputs": [
    {
     "name": "stdout",
     "output_type": "stream",
     "text": [
      "Processed the scanned images.\n"
     ]
    },
    {
     "data": {
      "text/plain": [
       "<matplotlib.image.AxesImage at 0x29f1741c7c0>"
      ]
     },
     "execution_count": 72,
     "metadata": {},
     "output_type": "execute_result"
    },
    {
     "data": {
      "image/png": "[encoded data removed]",
      "text/plain": [
       "<Figure size 432x288 with 1 Axes>"
      ]
     },
     "metadata": {
      "needs_background": "light"
     },
     "output_type": "display_data"
    }
   ],
   "source": [
    "# These steps process the scanned images to be in the same format and have the same properties as the EMNIST images\n",
    "# They are described by the EMNIST authors in detail here: https://arxiv.org/abs/1702.05373v1\n",
    "processed_story = []\n",
    "\n",
    "for img in handwritten_story:\n",
    "    #step 1: Apply Gaussian blur filter\n",
    "    img = cv2.GaussianBlur(img, (7,7), 0)\n",
    "  \n",
    "    #steps 2 and 3: Extract the Region of Interest in the image and center in square\n",
    "    points = cv2.findNonZero(img)\n",
    "    x, y, w, h = cv2.boundingRect(points)\n",
    "    if (w > 0 and h > 0):\n",
    "        if w > h:\n",
    "            y = y - (w-h)//2\n",
    "            img = img[y:y+w, x:x+w]\n",
    "        else:\n",
    "            x = x - (h-w)//2\n",
    "            img = img[y:y+h, x:x+h]\n",
    "     \n",
    "    #step 4: Resize and resample to be 28 x 28 pixels\n",
    "    img = cv2.resize(img, (28,28), interpolation = cv2.INTER_CUBIC)\n",
    "  \n",
    "    #step 5: Normalize pixels and reshape before adding to the new story array\n",
    "    img = img/255\n",
    "    img = img.reshape((28,28))\n",
    "    processed_story.append(img)\n",
    "\n",
    "print(\"Processed the scanned images.\")\n",
    "\n",
    "import matplotlib.pyplot as plt\n",
    "plt.imshow(processed_story[4]) #<<< change this index if you want to see a different letter from the story"
   ]
  },
  {
   "cell_type": "markdown",
   "id": "bf09daa9",
   "metadata": {},
   "source": [
    "### STEP 4.6"
   ]
  },
  {
   "cell_type": "code",
   "execution_count": 74,
   "id": "11c5bfb9",
   "metadata": {},
   "outputs": [
    {
     "name": "stdout",
     "output_type": "stream",
     "text": [
      "Conversion to typed story complete!\n",
      "the fault in gur power supplfes i fell in love the way your battery dges slowly and then all af onee\n"
     ]
    }
   ],
   "source": [
    "# This is a library we need to do some math on the image to be able to give it to the MLP in the right format\n",
    "import numpy\n",
    "\n",
    "typed_story = \"\"\n",
    "for letter in processed_story:\n",
    "  #this bit of code checks to see if the image is just a blank space by looking at the color of all the pixels summed\n",
    "  total_pixel_value = 0\n",
    "  for j in range(28):\n",
    "    for k in range(28):\n",
    "      total_pixel_value += letter[j,k]\n",
    "  if total_pixel_value < 20:\n",
    "    typed_story = typed_story + \" \"\n",
    "  else:         #if it NOT a blank, it actually runs the prediction algorithm on it\n",
    "    single_item_array = (numpy.array(letter)).reshape(1,784)\n",
    "    prediction = mlp2.predict(single_item_array)\n",
    "    typed_story = typed_story + str(chr(prediction[0]+96))\n",
    "    \n",
    "print(\"Conversion to typed story complete!\")\n",
    "print(typed_story)"
   ]
  },
  {
   "cell_type": "code",
   "execution_count": null,
   "id": "ef5a052b",
   "metadata": {},
   "outputs": [],
   "source": []
  },
  {
   "cell_type": "code",
   "execution_count": null,
   "id": "e5de6cd5",
   "metadata": {},
   "outputs": [],
   "source": []
  }
 ],
 "metadata": {
  "kernelspec": {
   "display_name": "Python 3 (ipykernel)",
   "language": "python",
   "name": "python3"
  },
  "language_info": {
   "codemirror_mode": {
    "name": "ipython",
    "version": 3
   },
   "file_extension": ".py",
   "mimetype": "text/x-python",
   "name": "python",
   "nbconvert_exporter": "python",
   "pygments_lexer": "ipython3",
   "version": "3.9.7"
  }
 },
 "nbformat": 4,
 "nbformat_minor": 5
}
