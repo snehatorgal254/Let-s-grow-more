{
 "cells": [
  {
   "cell_type": "markdown",
   "id": "13188fdb",
   "metadata": {},
   "source": [
    "# Importing some necessary libraries"
   ]
  },
  {
   "cell_type": "code",
   "execution_count": 1,
   "id": "98a955e0",
   "metadata": {},
   "outputs": [],
   "source": [
    "import numpy as np\n",
    "import pandas as pd\n",
    "import seaborn as sns\n",
    "import matplotlib.pyplot as plt\n",
    "import datetime as dt\n",
    "import tensorflow as tf"
   ]
  },
  {
   "cell_type": "markdown",
   "id": "de2726c3",
   "metadata": {},
   "source": [
    "# Loading dataset"
   ]
  },
  {
   "cell_type": "code",
   "execution_count": 2,
   "id": "563ba6a6",
   "metadata": {},
   "outputs": [],
   "source": [
    "# convert url link from raw github data to csv format\n",
    "url=\"https://raw.githubusercontent.com/mwitiderrick/stockprice/master/NSE-TATAGLOBAL.csv\"\n",
    "data = pd.read_csv(url)"
   ]
  },
  {
   "cell_type": "code",
   "execution_count": 3,
   "id": "887051bf",
   "metadata": {},
   "outputs": [
    {
     "data": {
      "text/html": [
       "<div>\n",
       "<style scoped>\n",
       "    .dataframe tbody tr th:only-of-type {\n",
       "        vertical-align: middle;\n",
       "    }\n",
       "\n",
       "    .dataframe tbody tr th {\n",
       "        vertical-align: top;\n",
       "    }\n",
       "\n",
       "    .dataframe thead th {\n",
       "        text-align: right;\n",
       "    }\n",
       "</style>\n",
       "<table border=\"1\" class=\"dataframe\">\n",
       "  <thead>\n",
       "    <tr style=\"text-align: right;\">\n",
       "      <th></th>\n",
       "      <th>Date</th>\n",
       "      <th>Open</th>\n",
       "      <th>High</th>\n",
       "      <th>Low</th>\n",
       "      <th>Last</th>\n",
       "      <th>Close</th>\n",
       "      <th>Total Trade Quantity</th>\n",
       "      <th>Turnover (Lacs)</th>\n",
       "    </tr>\n",
       "  </thead>\n",
       "  <tbody>\n",
       "    <tr>\n",
       "      <th>0</th>\n",
       "      <td>2018-09-28</td>\n",
       "      <td>234.05</td>\n",
       "      <td>235.95</td>\n",
       "      <td>230.20</td>\n",
       "      <td>233.50</td>\n",
       "      <td>233.75</td>\n",
       "      <td>3069914</td>\n",
       "      <td>7162.35</td>\n",
       "    </tr>\n",
       "    <tr>\n",
       "      <th>1</th>\n",
       "      <td>2018-09-27</td>\n",
       "      <td>234.55</td>\n",
       "      <td>236.80</td>\n",
       "      <td>231.10</td>\n",
       "      <td>233.80</td>\n",
       "      <td>233.25</td>\n",
       "      <td>5082859</td>\n",
       "      <td>11859.95</td>\n",
       "    </tr>\n",
       "    <tr>\n",
       "      <th>2</th>\n",
       "      <td>2018-09-26</td>\n",
       "      <td>240.00</td>\n",
       "      <td>240.00</td>\n",
       "      <td>232.50</td>\n",
       "      <td>235.00</td>\n",
       "      <td>234.25</td>\n",
       "      <td>2240909</td>\n",
       "      <td>5248.60</td>\n",
       "    </tr>\n",
       "    <tr>\n",
       "      <th>3</th>\n",
       "      <td>2018-09-25</td>\n",
       "      <td>233.30</td>\n",
       "      <td>236.75</td>\n",
       "      <td>232.00</td>\n",
       "      <td>236.25</td>\n",
       "      <td>236.10</td>\n",
       "      <td>2349368</td>\n",
       "      <td>5503.90</td>\n",
       "    </tr>\n",
       "    <tr>\n",
       "      <th>4</th>\n",
       "      <td>2018-09-24</td>\n",
       "      <td>233.55</td>\n",
       "      <td>239.20</td>\n",
       "      <td>230.75</td>\n",
       "      <td>234.00</td>\n",
       "      <td>233.30</td>\n",
       "      <td>3423509</td>\n",
       "      <td>7999.55</td>\n",
       "    </tr>\n",
       "    <tr>\n",
       "      <th>5</th>\n",
       "      <td>2018-09-21</td>\n",
       "      <td>235.00</td>\n",
       "      <td>237.00</td>\n",
       "      <td>227.95</td>\n",
       "      <td>233.75</td>\n",
       "      <td>234.60</td>\n",
       "      <td>5395319</td>\n",
       "      <td>12589.59</td>\n",
       "    </tr>\n",
       "    <tr>\n",
       "      <th>6</th>\n",
       "      <td>2018-09-19</td>\n",
       "      <td>235.95</td>\n",
       "      <td>237.20</td>\n",
       "      <td>233.45</td>\n",
       "      <td>234.60</td>\n",
       "      <td>234.90</td>\n",
       "      <td>1362058</td>\n",
       "      <td>3202.78</td>\n",
       "    </tr>\n",
       "    <tr>\n",
       "      <th>7</th>\n",
       "      <td>2018-09-18</td>\n",
       "      <td>237.90</td>\n",
       "      <td>239.25</td>\n",
       "      <td>233.50</td>\n",
       "      <td>235.50</td>\n",
       "      <td>235.05</td>\n",
       "      <td>2614794</td>\n",
       "      <td>6163.70</td>\n",
       "    </tr>\n",
       "    <tr>\n",
       "      <th>8</th>\n",
       "      <td>2018-09-17</td>\n",
       "      <td>233.15</td>\n",
       "      <td>238.00</td>\n",
       "      <td>230.25</td>\n",
       "      <td>236.40</td>\n",
       "      <td>236.60</td>\n",
       "      <td>3170894</td>\n",
       "      <td>7445.41</td>\n",
       "    </tr>\n",
       "    <tr>\n",
       "      <th>9</th>\n",
       "      <td>2018-09-14</td>\n",
       "      <td>223.45</td>\n",
       "      <td>236.70</td>\n",
       "      <td>223.30</td>\n",
       "      <td>234.00</td>\n",
       "      <td>233.95</td>\n",
       "      <td>6377909</td>\n",
       "      <td>14784.50</td>\n",
       "    </tr>\n",
       "  </tbody>\n",
       "</table>\n",
       "</div>"
      ],
      "text/plain": [
       "         Date    Open    High     Low    Last   Close  Total Trade Quantity  \\\n",
       "0  2018-09-28  234.05  235.95  230.20  233.50  233.75               3069914   \n",
       "1  2018-09-27  234.55  236.80  231.10  233.80  233.25               5082859   \n",
       "2  2018-09-26  240.00  240.00  232.50  235.00  234.25               2240909   \n",
       "3  2018-09-25  233.30  236.75  232.00  236.25  236.10               2349368   \n",
       "4  2018-09-24  233.55  239.20  230.75  234.00  233.30               3423509   \n",
       "5  2018-09-21  235.00  237.00  227.95  233.75  234.60               5395319   \n",
       "6  2018-09-19  235.95  237.20  233.45  234.60  234.90               1362058   \n",
       "7  2018-09-18  237.90  239.25  233.50  235.50  235.05               2614794   \n",
       "8  2018-09-17  233.15  238.00  230.25  236.40  236.60               3170894   \n",
       "9  2018-09-14  223.45  236.70  223.30  234.00  233.95               6377909   \n",
       "\n",
       "   Turnover (Lacs)  \n",
       "0          7162.35  \n",
       "1         11859.95  \n",
       "2          5248.60  \n",
       "3          5503.90  \n",
       "4          7999.55  \n",
       "5         12589.59  \n",
       "6          3202.78  \n",
       "7          6163.70  \n",
       "8          7445.41  \n",
       "9         14784.50  "
      ]
     },
     "execution_count": 3,
     "metadata": {},
     "output_type": "execute_result"
    }
   ],
   "source": [
    "data.head(10)"
   ]
  },
  {
   "cell_type": "markdown",
   "id": "e5d7e1a4",
   "metadata": {},
   "source": [
    "# Info about data"
   ]
  },
  {
   "cell_type": "code",
   "execution_count": 4,
   "id": "7d1fc700",
   "metadata": {},
   "outputs": [
    {
     "data": {
      "text/html": [
       "<div>\n",
       "<style scoped>\n",
       "    .dataframe tbody tr th:only-of-type {\n",
       "        vertical-align: middle;\n",
       "    }\n",
       "\n",
       "    .dataframe tbody tr th {\n",
       "        vertical-align: top;\n",
       "    }\n",
       "\n",
       "    .dataframe thead th {\n",
       "        text-align: right;\n",
       "    }\n",
       "</style>\n",
       "<table border=\"1\" class=\"dataframe\">\n",
       "  <thead>\n",
       "    <tr style=\"text-align: right;\">\n",
       "      <th></th>\n",
       "      <th>Open</th>\n",
       "      <th>High</th>\n",
       "      <th>Low</th>\n",
       "      <th>Last</th>\n",
       "      <th>Close</th>\n",
       "      <th>Total Trade Quantity</th>\n",
       "      <th>Turnover (Lacs)</th>\n",
       "    </tr>\n",
       "  </thead>\n",
       "  <tbody>\n",
       "    <tr>\n",
       "      <th>count</th>\n",
       "      <td>2035.000000</td>\n",
       "      <td>2035.000000</td>\n",
       "      <td>2035.000000</td>\n",
       "      <td>2035.000000</td>\n",
       "      <td>2035.00000</td>\n",
       "      <td>2.035000e+03</td>\n",
       "      <td>2035.000000</td>\n",
       "    </tr>\n",
       "    <tr>\n",
       "      <th>mean</th>\n",
       "      <td>149.713735</td>\n",
       "      <td>151.992826</td>\n",
       "      <td>147.293931</td>\n",
       "      <td>149.474251</td>\n",
       "      <td>149.45027</td>\n",
       "      <td>2.335681e+06</td>\n",
       "      <td>3899.980565</td>\n",
       "    </tr>\n",
       "    <tr>\n",
       "      <th>std</th>\n",
       "      <td>48.664509</td>\n",
       "      <td>49.413109</td>\n",
       "      <td>47.931958</td>\n",
       "      <td>48.732570</td>\n",
       "      <td>48.71204</td>\n",
       "      <td>2.091778e+06</td>\n",
       "      <td>4570.767877</td>\n",
       "    </tr>\n",
       "    <tr>\n",
       "      <th>min</th>\n",
       "      <td>81.100000</td>\n",
       "      <td>82.800000</td>\n",
       "      <td>80.000000</td>\n",
       "      <td>81.000000</td>\n",
       "      <td>80.95000</td>\n",
       "      <td>3.961000e+04</td>\n",
       "      <td>37.040000</td>\n",
       "    </tr>\n",
       "    <tr>\n",
       "      <th>25%</th>\n",
       "      <td>120.025000</td>\n",
       "      <td>122.100000</td>\n",
       "      <td>118.300000</td>\n",
       "      <td>120.075000</td>\n",
       "      <td>120.05000</td>\n",
       "      <td>1.146444e+06</td>\n",
       "      <td>1427.460000</td>\n",
       "    </tr>\n",
       "    <tr>\n",
       "      <th>50%</th>\n",
       "      <td>141.500000</td>\n",
       "      <td>143.400000</td>\n",
       "      <td>139.600000</td>\n",
       "      <td>141.100000</td>\n",
       "      <td>141.25000</td>\n",
       "      <td>1.783456e+06</td>\n",
       "      <td>2512.030000</td>\n",
       "    </tr>\n",
       "    <tr>\n",
       "      <th>75%</th>\n",
       "      <td>157.175000</td>\n",
       "      <td>159.400000</td>\n",
       "      <td>155.150000</td>\n",
       "      <td>156.925000</td>\n",
       "      <td>156.90000</td>\n",
       "      <td>2.813594e+06</td>\n",
       "      <td>4539.015000</td>\n",
       "    </tr>\n",
       "    <tr>\n",
       "      <th>max</th>\n",
       "      <td>327.700000</td>\n",
       "      <td>328.750000</td>\n",
       "      <td>321.650000</td>\n",
       "      <td>325.950000</td>\n",
       "      <td>325.75000</td>\n",
       "      <td>2.919102e+07</td>\n",
       "      <td>55755.080000</td>\n",
       "    </tr>\n",
       "  </tbody>\n",
       "</table>\n",
       "</div>"
      ],
      "text/plain": [
       "              Open         High          Low         Last       Close  \\\n",
       "count  2035.000000  2035.000000  2035.000000  2035.000000  2035.00000   \n",
       "mean    149.713735   151.992826   147.293931   149.474251   149.45027   \n",
       "std      48.664509    49.413109    47.931958    48.732570    48.71204   \n",
       "min      81.100000    82.800000    80.000000    81.000000    80.95000   \n",
       "25%     120.025000   122.100000   118.300000   120.075000   120.05000   \n",
       "50%     141.500000   143.400000   139.600000   141.100000   141.25000   \n",
       "75%     157.175000   159.400000   155.150000   156.925000   156.90000   \n",
       "max     327.700000   328.750000   321.650000   325.950000   325.75000   \n",
       "\n",
       "       Total Trade Quantity  Turnover (Lacs)  \n",
       "count          2.035000e+03      2035.000000  \n",
       "mean           2.335681e+06      3899.980565  \n",
       "std            2.091778e+06      4570.767877  \n",
       "min            3.961000e+04        37.040000  \n",
       "25%            1.146444e+06      1427.460000  \n",
       "50%            1.783456e+06      2512.030000  \n",
       "75%            2.813594e+06      4539.015000  \n",
       "max            2.919102e+07     55755.080000  "
      ]
     },
     "execution_count": 4,
     "metadata": {},
     "output_type": "execute_result"
    }
   ],
   "source": [
    "data.describe()"
   ]
  },
  {
   "cell_type": "code",
   "execution_count": 5,
   "id": "5d2f1a0f",
   "metadata": {},
   "outputs": [
    {
     "name": "stdout",
     "output_type": "stream",
     "text": [
      "<class 'pandas.core.frame.DataFrame'>\n",
      "RangeIndex: 2035 entries, 0 to 2034\n",
      "Data columns (total 8 columns):\n",
      " #   Column                Non-Null Count  Dtype  \n",
      "---  ------                --------------  -----  \n",
      " 0   Date                  2035 non-null   object \n",
      " 1   Open                  2035 non-null   float64\n",
      " 2   High                  2035 non-null   float64\n",
      " 3   Low                   2035 non-null   float64\n",
      " 4   Last                  2035 non-null   float64\n",
      " 5   Close                 2035 non-null   float64\n",
      " 6   Total Trade Quantity  2035 non-null   int64  \n",
      " 7   Turnover (Lacs)       2035 non-null   float64\n",
      "dtypes: float64(6), int64(1), object(1)\n",
      "memory usage: 127.3+ KB\n"
     ]
    }
   ],
   "source": [
    "data.info()"
   ]
  },
  {
   "cell_type": "code",
   "execution_count": 6,
   "id": "baa8a97e",
   "metadata": {},
   "outputs": [
    {
     "data": {
      "text/plain": [
       "(2035, 8)"
      ]
     },
     "execution_count": 6,
     "metadata": {},
     "output_type": "execute_result"
    }
   ],
   "source": [
    "data.shape"
   ]
  },
  {
   "cell_type": "code",
   "execution_count": 7,
   "id": "3e2380d0",
   "metadata": {},
   "outputs": [
    {
     "data": {
      "text/plain": [
       "Date                    0\n",
       "Open                    0\n",
       "High                    0\n",
       "Low                     0\n",
       "Last                    0\n",
       "Close                   0\n",
       "Total Trade Quantity    0\n",
       "Turnover (Lacs)         0\n",
       "dtype: int64"
      ]
     },
     "execution_count": 7,
     "metadata": {},
     "output_type": "execute_result"
    }
   ],
   "source": [
    "data.isnull().sum()"
   ]
  },
  {
   "cell_type": "code",
   "execution_count": 8,
   "id": "1e35d77e",
   "metadata": {},
   "outputs": [
    {
     "data": {
      "text/html": [
       "<div>\n",
       "<style scoped>\n",
       "    .dataframe tbody tr th:only-of-type {\n",
       "        vertical-align: middle;\n",
       "    }\n",
       "\n",
       "    .dataframe tbody tr th {\n",
       "        vertical-align: top;\n",
       "    }\n",
       "\n",
       "    .dataframe thead th {\n",
       "        text-align: right;\n",
       "    }\n",
       "</style>\n",
       "<table border=\"1\" class=\"dataframe\">\n",
       "  <thead>\n",
       "    <tr style=\"text-align: right;\">\n",
       "      <th></th>\n",
       "      <th>Date</th>\n",
       "      <th>Open</th>\n",
       "      <th>High</th>\n",
       "      <th>Low</th>\n",
       "      <th>Last</th>\n",
       "      <th>Close</th>\n",
       "      <th>Total Trade Quantity</th>\n",
       "      <th>Turnover (Lacs)</th>\n",
       "    </tr>\n",
       "  </thead>\n",
       "  <tbody>\n",
       "    <tr>\n",
       "      <th>2025</th>\n",
       "      <td>2010-08-03</td>\n",
       "      <td>118.3</td>\n",
       "      <td>119.95</td>\n",
       "      <td>117.90</td>\n",
       "      <td>118.65</td>\n",
       "      <td>118.30</td>\n",
       "      <td>611234</td>\n",
       "      <td>726.78</td>\n",
       "    </tr>\n",
       "    <tr>\n",
       "      <th>2026</th>\n",
       "      <td>2010-08-02</td>\n",
       "      <td>117.3</td>\n",
       "      <td>118.50</td>\n",
       "      <td>116.60</td>\n",
       "      <td>118.10</td>\n",
       "      <td>117.30</td>\n",
       "      <td>663593</td>\n",
       "      <td>779.85</td>\n",
       "    </tr>\n",
       "    <tr>\n",
       "      <th>2027</th>\n",
       "      <td>2010-07-30</td>\n",
       "      <td>116.5</td>\n",
       "      <td>118.00</td>\n",
       "      <td>114.60</td>\n",
       "      <td>115.85</td>\n",
       "      <td>116.05</td>\n",
       "      <td>2656191</td>\n",
       "      <td>3112.68</td>\n",
       "    </tr>\n",
       "    <tr>\n",
       "      <th>2028</th>\n",
       "      <td>2010-07-29</td>\n",
       "      <td>112.5</td>\n",
       "      <td>121.70</td>\n",
       "      <td>112.50</td>\n",
       "      <td>117.50</td>\n",
       "      <td>116.60</td>\n",
       "      <td>2359134</td>\n",
       "      <td>2791.03</td>\n",
       "    </tr>\n",
       "    <tr>\n",
       "      <th>2029</th>\n",
       "      <td>2010-07-28</td>\n",
       "      <td>118.0</td>\n",
       "      <td>120.50</td>\n",
       "      <td>117.20</td>\n",
       "      <td>118.15</td>\n",
       "      <td>118.25</td>\n",
       "      <td>835593</td>\n",
       "      <td>994.01</td>\n",
       "    </tr>\n",
       "    <tr>\n",
       "      <th>2030</th>\n",
       "      <td>2010-07-27</td>\n",
       "      <td>117.6</td>\n",
       "      <td>119.50</td>\n",
       "      <td>112.00</td>\n",
       "      <td>118.80</td>\n",
       "      <td>118.65</td>\n",
       "      <td>586100</td>\n",
       "      <td>694.98</td>\n",
       "    </tr>\n",
       "    <tr>\n",
       "      <th>2031</th>\n",
       "      <td>2010-07-26</td>\n",
       "      <td>120.1</td>\n",
       "      <td>121.00</td>\n",
       "      <td>117.10</td>\n",
       "      <td>117.10</td>\n",
       "      <td>117.60</td>\n",
       "      <td>658440</td>\n",
       "      <td>780.01</td>\n",
       "    </tr>\n",
       "    <tr>\n",
       "      <th>2032</th>\n",
       "      <td>2010-07-23</td>\n",
       "      <td>121.8</td>\n",
       "      <td>121.95</td>\n",
       "      <td>120.25</td>\n",
       "      <td>120.35</td>\n",
       "      <td>120.65</td>\n",
       "      <td>281312</td>\n",
       "      <td>340.31</td>\n",
       "    </tr>\n",
       "    <tr>\n",
       "      <th>2033</th>\n",
       "      <td>2010-07-22</td>\n",
       "      <td>120.3</td>\n",
       "      <td>122.00</td>\n",
       "      <td>120.25</td>\n",
       "      <td>120.75</td>\n",
       "      <td>120.90</td>\n",
       "      <td>293312</td>\n",
       "      <td>355.17</td>\n",
       "    </tr>\n",
       "    <tr>\n",
       "      <th>2034</th>\n",
       "      <td>2010-07-21</td>\n",
       "      <td>122.1</td>\n",
       "      <td>123.00</td>\n",
       "      <td>121.05</td>\n",
       "      <td>121.10</td>\n",
       "      <td>121.55</td>\n",
       "      <td>658666</td>\n",
       "      <td>803.56</td>\n",
       "    </tr>\n",
       "  </tbody>\n",
       "</table>\n",
       "</div>"
      ],
      "text/plain": [
       "            Date   Open    High     Low    Last   Close  Total Trade Quantity  \\\n",
       "2025  2010-08-03  118.3  119.95  117.90  118.65  118.30                611234   \n",
       "2026  2010-08-02  117.3  118.50  116.60  118.10  117.30                663593   \n",
       "2027  2010-07-30  116.5  118.00  114.60  115.85  116.05               2656191   \n",
       "2028  2010-07-29  112.5  121.70  112.50  117.50  116.60               2359134   \n",
       "2029  2010-07-28  118.0  120.50  117.20  118.15  118.25                835593   \n",
       "2030  2010-07-27  117.6  119.50  112.00  118.80  118.65                586100   \n",
       "2031  2010-07-26  120.1  121.00  117.10  117.10  117.60                658440   \n",
       "2032  2010-07-23  121.8  121.95  120.25  120.35  120.65                281312   \n",
       "2033  2010-07-22  120.3  122.00  120.25  120.75  120.90                293312   \n",
       "2034  2010-07-21  122.1  123.00  121.05  121.10  121.55                658666   \n",
       "\n",
       "      Turnover (Lacs)  \n",
       "2025           726.78  \n",
       "2026           779.85  \n",
       "2027          3112.68  \n",
       "2028          2791.03  \n",
       "2029           994.01  \n",
       "2030           694.98  \n",
       "2031           780.01  \n",
       "2032           340.31  \n",
       "2033           355.17  \n",
       "2034           803.56  "
      ]
     },
     "execution_count": 8,
     "metadata": {},
     "output_type": "execute_result"
    }
   ],
   "source": [
    "data.tail(10)"
   ]
  },
  {
   "cell_type": "code",
   "execution_count": 9,
   "id": "efca95e0",
   "metadata": {},
   "outputs": [],
   "source": [
    "data_new=data.reset_index()['Close']"
   ]
  },
  {
   "cell_type": "code",
   "execution_count": 10,
   "id": "b2b30ad4",
   "metadata": {},
   "outputs": [],
   "source": [
    "from sklearn.preprocessing import MinMaxScaler\n",
    "scaler=MinMaxScaler(feature_range=(0,1))\n",
    "data_new=scaler.fit_transform(np.array(data_new).reshape(-1,1))"
   ]
  },
  {
   "cell_type": "code",
   "execution_count": 11,
   "id": "9a559706",
   "metadata": {},
   "outputs": [],
   "source": [
    "training_size=int(len(data_new)*0.70)\n",
    "test_size=len(data_new)-training_size\n",
    "train_data,test_data=data_new[0:training_size,:],data_new[training_size:len(data_new),:1]"
   ]
  },
  {
   "cell_type": "code",
   "execution_count": 12,
   "id": "df1755f7",
   "metadata": {},
   "outputs": [
    {
     "data": {
      "text/plain": [
       "1424"
      ]
     },
     "execution_count": 12,
     "metadata": {},
     "output_type": "execute_result"
    }
   ],
   "source": [
    "training_size"
   ]
  },
  {
   "cell_type": "code",
   "execution_count": 13,
   "id": "d7b48dc7",
   "metadata": {},
   "outputs": [
    {
     "data": {
      "text/plain": [
       "611"
      ]
     },
     "execution_count": 13,
     "metadata": {},
     "output_type": "execute_result"
    }
   ],
   "source": [
    "test_size"
   ]
  },
  {
   "cell_type": "markdown",
   "id": "47849b3f",
   "metadata": {},
   "source": [
    "Convert an array of values into a dataset matrix "
   ]
  },
  {
   "cell_type": "code",
   "execution_count": 14,
   "id": "c963722f",
   "metadata": {},
   "outputs": [],
   "source": [
    "def create_dataset(dataset, time_step=1):\n",
    "        dataX, dataY = [], []\n",
    "        for i in range(len(dataset)-time_step-1):\n",
    "                a = dataset[i:(i+time_step), 0]\n",
    "                dataX.append(a)\n",
    "                dataY.append(dataset[i + time_step, 0])\n",
    "        return np.array(dataX), np.array(dataY)"
   ]
  },
  {
   "cell_type": "markdown",
   "id": "f1aedfd6",
   "metadata": {},
   "source": [
    "Reshape into X=t,t+1,t+2,t+3 and Y=t+4"
   ]
  },
  {
   "cell_type": "code",
   "execution_count": 15,
   "id": "1cabacf1",
   "metadata": {},
   "outputs": [],
   "source": [
    "time_step = 100\n",
    "X_train, y_train = create_dataset(train_data, time_step)\n",
    "X_test, y_test = create_dataset(test_data, time_step)"
   ]
  },
  {
   "cell_type": "code",
   "execution_count": 16,
   "id": "b9d61d6d",
   "metadata": {},
   "outputs": [
    {
     "data": {
      "text/plain": [
       "(1323, 100)"
      ]
     },
     "execution_count": 16,
     "metadata": {},
     "output_type": "execute_result"
    }
   ],
   "source": [
    "X_train.shape"
   ]
  },
  {
   "cell_type": "code",
   "execution_count": 17,
   "id": "469a4f54",
   "metadata": {},
   "outputs": [
    {
     "data": {
      "text/plain": [
       "(1323,)"
      ]
     },
     "execution_count": 17,
     "metadata": {},
     "output_type": "execute_result"
    }
   ],
   "source": [
    "y_train.shape"
   ]
  },
  {
   "cell_type": "markdown",
   "id": "a1cecd4e",
   "metadata": {},
   "source": [
    "Reshape input to be samples, time steps, features which is required for LSTM"
   ]
  },
  {
   "cell_type": "code",
   "execution_count": 18,
   "id": "0282332d",
   "metadata": {},
   "outputs": [],
   "source": [
    "X_train =X_train.reshape(X_train.shape[0],X_train.shape[1] , 1)\n",
    "X_test = X_test.reshape(X_test.shape[0],X_test.shape[1] , 1)"
   ]
  },
  {
   "cell_type": "code",
   "execution_count": 19,
   "id": "0e3ee00e",
   "metadata": {},
   "outputs": [
    {
     "data": {
      "text/plain": [
       "array([[[0.62418301],\n",
       "        [0.62214052],\n",
       "        [0.62622549],\n",
       "        ...,\n",
       "        [0.83455882],\n",
       "        [0.86213235],\n",
       "        [0.85273693]],\n",
       "\n",
       "       [[0.62214052],\n",
       "        [0.62622549],\n",
       "        [0.63378268],\n",
       "        ...,\n",
       "        [0.86213235],\n",
       "        [0.85273693],\n",
       "        [0.87111928]],\n",
       "\n",
       "       [[0.62622549],\n",
       "        [0.63378268],\n",
       "        [0.62234477],\n",
       "        ...,\n",
       "        [0.85273693],\n",
       "        [0.87111928],\n",
       "        [0.84497549]],\n",
       "\n",
       "       ...,\n",
       "\n",
       "       [[0.26041667],\n",
       "        [0.2563317 ],\n",
       "        [0.24652778],\n",
       "        ...,\n",
       "        [0.33415033],\n",
       "        [0.33986928],\n",
       "        [0.34681373]],\n",
       "\n",
       "       [[0.2563317 ],\n",
       "        [0.24652778],\n",
       "        [0.23611111],\n",
       "        ...,\n",
       "        [0.33986928],\n",
       "        [0.34681373],\n",
       "        [0.3500817 ]],\n",
       "\n",
       "       [[0.24652778],\n",
       "        [0.23611111],\n",
       "        [0.25204248],\n",
       "        ...,\n",
       "        [0.34681373],\n",
       "        [0.3500817 ],\n",
       "        [0.32618464]]])"
      ]
     },
     "execution_count": 19,
     "metadata": {},
     "output_type": "execute_result"
    }
   ],
   "source": [
    "X_train"
   ]
  },
  {
   "cell_type": "code",
   "execution_count": 20,
   "id": "b4b3eab5",
   "metadata": {},
   "outputs": [
    {
     "data": {
      "text/plain": [
       "array([[[0.32148693],\n",
       "        [0.32352941],\n",
       "        [0.3255719 ],\n",
       "        ...,\n",
       "        [0.20506536],\n",
       "        [0.2005719 ],\n",
       "        [0.18831699]],\n",
       "\n",
       "       [[0.32352941],\n",
       "        [0.3255719 ],\n",
       "        [0.32638889],\n",
       "        ...,\n",
       "        [0.2005719 ],\n",
       "        [0.18831699],\n",
       "        [0.18811275]],\n",
       "\n",
       "       [[0.3255719 ],\n",
       "        [0.32638889],\n",
       "        [0.33496732],\n",
       "        ...,\n",
       "        [0.18831699],\n",
       "        [0.18811275],\n",
       "        [0.17034314]],\n",
       "\n",
       "       ...,\n",
       "\n",
       "       [[0.13827614],\n",
       "        [0.13541667],\n",
       "        [0.13010621],\n",
       "        ...,\n",
       "        [0.14562908],\n",
       "        [0.15236928],\n",
       "        [0.15400327]],\n",
       "\n",
       "       [[0.13541667],\n",
       "        [0.13010621],\n",
       "        [0.12254902],\n",
       "        ...,\n",
       "        [0.15236928],\n",
       "        [0.15400327],\n",
       "        [0.14971405]],\n",
       "\n",
       "       [[0.13010621],\n",
       "        [0.12254902],\n",
       "        [0.12479575],\n",
       "        ...,\n",
       "        [0.15400327],\n",
       "        [0.14971405],\n",
       "        [0.1621732 ]]])"
      ]
     },
     "execution_count": 20,
     "metadata": {},
     "output_type": "execute_result"
    }
   ],
   "source": [
    "X_test"
   ]
  },
  {
   "cell_type": "code",
   "execution_count": 21,
   "id": "e086e362",
   "metadata": {},
   "outputs": [
    {
     "data": {
      "text/plain": [
       "array([0.87111928, 0.84497549, 0.84027778, ..., 0.3500817 , 0.32618464,\n",
       "       0.32271242])"
      ]
     },
     "execution_count": 21,
     "metadata": {},
     "output_type": "execute_result"
    }
   ],
   "source": [
    "y_train"
   ]
  },
  {
   "cell_type": "code",
   "execution_count": 22,
   "id": "cd218e40",
   "metadata": {},
   "outputs": [
    {
     "data": {
      "text/plain": [
       "array([0.18811275, 0.17034314, 0.1621732 , 0.15972222, 0.16278595,\n",
       "       0.17340686, 0.14174837, 0.15441176, 0.16503268, 0.15563725,\n",
       "       0.14460784, 0.13684641, 0.13582516, 0.14072712, 0.14501634,\n",
       "       0.14195261, 0.13562092, 0.15053105, 0.15727124, 0.15461601,\n",
       "       0.15767974, 0.15114379, 0.14297386, 0.14215686, 0.14787582,\n",
       "       0.13970588, 0.11642157, 0.11131536, 0.10927288, 0.10334967,\n",
       "       0.09783497, 0.10089869, 0.10906863, 0.10171569, 0.11254085,\n",
       "       0.12704248, 0.12214052, 0.12704248, 0.11519608, 0.11008987,\n",
       "       0.0996732 , 0.09640523, 0.10089869, 0.10886438, 0.10866013,\n",
       "       0.1186683 , 0.12316176, 0.11029412, 0.11703431, 0.11008987,\n",
       "       0.1064134 , 0.10559641, 0.1004902 , 0.10784314, 0.10988562,\n",
       "       0.09763072, 0.09027778, 0.1123366 , 0.12867647, 0.12071078,\n",
       "       0.13031046, 0.1439951 , 0.13664216, 0.14910131, 0.15686275,\n",
       "       0.14685458, 0.14481209, 0.14195261, 0.14093137, 0.14583333,\n",
       "       0.15339052, 0.14889706, 0.16646242, 0.17585784, 0.15604575,\n",
       "       0.15522876, 0.15339052, 0.14644608, 0.16441993, 0.15236928,\n",
       "       0.14889706, 0.14705882, 0.15012255, 0.15522876, 0.14052288,\n",
       "       0.12826797, 0.11172386, 0.11805556, 0.11887255, 0.11519608,\n",
       "       0.12969771, 0.12254902, 0.13786765, 0.1313317 , 0.11744281,\n",
       "       0.13071895, 0.1431781 , 0.16115196, 0.15175654, 0.14644608,\n",
       "       0.15216503, 0.1435866 , 0.13419118, 0.1431781 , 0.16115196,\n",
       "       0.16176471, 0.17320261, 0.18218954, 0.16237745, 0.13112745,\n",
       "       0.15931373, 0.15951797, 0.14808007, 0.16278595, 0.15625   ,\n",
       "       0.16319444, 0.16360294, 0.16278595, 0.16544118, 0.15522876,\n",
       "       0.17197712, 0.1503268 , 0.13255719, 0.14338235, 0.15849673,\n",
       "       0.1186683 , 0.11519608, 0.10947712, 0.0692402 , 0.06597222,\n",
       "       0.05841503, 0.05044935, 0.04534314, 0.04779412, 0.05290033,\n",
       "       0.04922386, 0.06638072, 0.07169118, 0.05392157, 0.04881536,\n",
       "       0.04881536, 0.05310458, 0.04963235, 0.05065359, 0.05126634,\n",
       "       0.04963235, 0.05902778, 0.05555556, 0.04084967, 0.03737745,\n",
       "       0.03737745, 0.02655229, 0.02879902, 0.0316585 , 0.0316585 ,\n",
       "       0.03635621, 0.02205882, 0.01674837, 0.01450163, 0.02226307,\n",
       "       0.03615196, 0.02675654, 0.03206699, 0.02696078, 0.03574346,\n",
       "       0.03594771, 0.04044118, 0.03921569, 0.04411765, 0.02982026,\n",
       "       0.0122549 , 0.01286765, 0.01143791, 0.00245098, 0.0059232 ,\n",
       "       0.        , 0.00714869, 0.00428922, 0.0067402 , 0.0063317 ,\n",
       "       0.01123366, 0.01960784, 0.02757353, 0.03002451, 0.03349673,\n",
       "       0.04003268, 0.04084967, 0.03982843, 0.04166667, 0.04370915,\n",
       "       0.04758987, 0.03594771, 0.02839052, 0.02410131, 0.01715686,\n",
       "       0.01531863, 0.01756536, 0.02696078, 0.02696078, 0.03819444,\n",
       "       0.02839052, 0.02369281, 0.02920752, 0.02328431, 0.01919935,\n",
       "       0.00653595, 0.00061275, 0.00796569, 0.01245915, 0.01981209,\n",
       "       0.01940359, 0.02246732, 0.03125   , 0.02348856, 0.0249183 ,\n",
       "       0.02144608, 0.04840686, 0.04575163, 0.03962418, 0.03921569,\n",
       "       0.04758987, 0.04513889, 0.04166667, 0.04125817, 0.05044935,\n",
       "       0.05555556, 0.05494281, 0.05412582, 0.0435049 , 0.04799837,\n",
       "       0.05147059, 0.05065359, 0.03431373, 0.04575163, 0.04187092,\n",
       "       0.04554739, 0.03941993, 0.02716503, 0.03125   , 0.05882353,\n",
       "       0.07148693, 0.08721405, 0.08986928, 0.10498366, 0.08905229,\n",
       "       0.10355392, 0.10375817, 0.12275327, 0.10906863, 0.09660948,\n",
       "       0.1064134 , 0.10457516, 0.11049837, 0.1127451 , 0.09803922,\n",
       "       0.09987745, 0.08925654, 0.0747549 , 0.08169935, 0.08925654,\n",
       "       0.09068627, 0.08129085, 0.08823529, 0.08455882, 0.07945261,\n",
       "       0.08374183, 0.07781863, 0.09824346, 0.09089052, 0.09007353,\n",
       "       0.09558824, 0.06862745, 0.06372549, 0.0494281 , 0.04799837,\n",
       "       0.04534314, 0.0443219 , 0.03941993, 0.0379902 , 0.04656863,\n",
       "       0.05085784, 0.07209967, 0.06535948, 0.07230392, 0.07802288,\n",
       "       0.07741013, 0.06086601, 0.06413399, 0.07046569, 0.05412582,\n",
       "       0.0498366 , 0.05167484, 0.05330882, 0.0435049 , 0.02634804,\n",
       "       0.02410131, 0.02961601, 0.01960784, 0.02961601, 0.04575163,\n",
       "       0.05923203, 0.06678922, 0.06229575, 0.06311275, 0.0629085 ,\n",
       "       0.06658497, 0.07434641, 0.06944444, 0.08088235, 0.07700163,\n",
       "       0.0684232 , 0.06781046, 0.0629085 , 0.0692402 , 0.0755719 ,\n",
       "       0.07781863, 0.08088235, 0.08843954, 0.09395425, 0.09599673,\n",
       "       0.08660131, 0.09027778, 0.08517157, 0.08374183, 0.07945261,\n",
       "       0.09109477, 0.09129902, 0.08803105, 0.09681373, 0.11417484,\n",
       "       0.10498366, 0.09987745, 0.08537582, 0.08047386, 0.06862745,\n",
       "       0.06576797, 0.06147876, 0.07169118, 0.07026144, 0.0747549 ,\n",
       "       0.06821895, 0.0692402 , 0.07066993, 0.06801471, 0.06678922,\n",
       "       0.07414216, 0.07169118, 0.08639706, 0.08312908, 0.06311275,\n",
       "       0.0629085 , 0.05167484, 0.03186275, 0.04003268, 0.03860294,\n",
       "       0.04105392, 0.03390523, 0.03125   , 0.02634804, 0.05861928,\n",
       "       0.06311275, 0.0620915 , 0.05535131, 0.08455882, 0.05514706,\n",
       "       0.06045752, 0.0557598 , 0.0439134 , 0.02920752, 0.02818627,\n",
       "       0.04718137, 0.06045752, 0.05861928, 0.06168301, 0.06699346,\n",
       "       0.07087418, 0.0755719 , 0.07700163, 0.10375817, 0.10314542,\n",
       "       0.10334967, 0.10089869, 0.10437092, 0.09803922, 0.09722222,\n",
       "       0.09783497, 0.09579248, 0.09109477, 0.09313725, 0.08558007,\n",
       "       0.09517974, 0.11172386, 0.12275327, 0.12806373, 0.1313317 ,\n",
       "       0.12479575, 0.11090686, 0.10743464, 0.11621732, 0.11683007,\n",
       "       0.11764706, 0.12888072, 0.12847222, 0.13337418, 0.14236111,\n",
       "       0.14093137, 0.13970588, 0.13827614, 0.13541667, 0.13010621,\n",
       "       0.12254902, 0.12479575, 0.13848039, 0.14011438, 0.13888889,\n",
       "       0.13541667, 0.14011438, 0.1380719 , 0.13071895, 0.13071895,\n",
       "       0.12867647, 0.11846405, 0.14644608, 0.14808007, 0.15910948,\n",
       "       0.15992647, 0.15788399, 0.16441993, 0.17892157, 0.17933007,\n",
       "       0.19260621, 0.20812908, 0.18974673, 0.18055556, 0.18239379,\n",
       "       0.17708333, 0.17810458, 0.18055556, 0.17810458, 0.17851307,\n",
       "       0.19607843, 0.18913399, 0.18954248, 0.19403595, 0.19444444,\n",
       "       0.20200163, 0.19771242, 0.19934641, 0.19873366, 0.1997549 ,\n",
       "       0.2128268 , 0.21568627, 0.20445261, 0.21772876, 0.21098856,\n",
       "       0.21425654, 0.19750817, 0.18811275, 0.17851307, 0.17381536,\n",
       "       0.16033497, 0.16564542, 0.17116013, 0.17422386, 0.18035131,\n",
       "       0.17401961, 0.16278595, 0.16973039, 0.17810458, 0.17034314,\n",
       "       0.16830065, 0.17279412, 0.17544935, 0.18382353, 0.19138072,\n",
       "       0.18913399, 0.19097222, 0.17238562, 0.16830065, 0.1693219 ,\n",
       "       0.17177288, 0.16156046, 0.14971405, 0.1503268 , 0.15196078,\n",
       "       0.14726307, 0.14501634, 0.14603758, 0.12479575, 0.13112745,\n",
       "       0.11397059, 0.1190768 , 0.12377451, 0.13562092, 0.12908497,\n",
       "       0.13459967, 0.12806373, 0.13031046, 0.12724673, 0.13521242,\n",
       "       0.14522059, 0.15257353, 0.14848856, 0.14338235, 0.14562908,\n",
       "       0.15236928, 0.15400327, 0.14971405, 0.1621732 , 0.16319444])"
      ]
     },
     "execution_count": 22,
     "metadata": {},
     "output_type": "execute_result"
    }
   ],
   "source": [
    "y_test"
   ]
  },
  {
   "cell_type": "markdown",
   "id": "ba0dde43",
   "metadata": {},
   "source": [
    "# Data Visualization"
   ]
  },
  {
   "cell_type": "code",
   "execution_count": 23,
   "id": "506a026d",
   "metadata": {},
   "outputs": [
    {
     "data": {
      "text/plain": [
       "[<matplotlib.lines.Line2D at 0x287c9fd8670>]"
      ]
     },
     "execution_count": 23,
     "metadata": {},
     "output_type": "execute_result"
    },
    {
     "data": {
      "image/png": "[encoded data removed]",
      "text/plain": [
       "<Figure size 640x480 with 1 Axes>"
      ]
     },
     "metadata": {},
     "output_type": "display_data"
    }
   ],
   "source": [
    "plt.plot(data_new)"
   ]
  },
  {
   "cell_type": "markdown",
   "id": "452604df",
   "metadata": {},
   "source": [
    "# Building a model"
   ]
  },
  {
   "cell_type": "code",
   "execution_count": 24,
   "id": "d05737f7",
   "metadata": {},
   "outputs": [],
   "source": [
    "### Create the Stacked LSTM model\n",
    "from tensorflow.keras.models import Sequential\n",
    "from tensorflow.keras.layers import Dense\n",
    "from tensorflow.keras.layers import LSTM"
   ]
  },
  {
   "cell_type": "code",
   "execution_count": 25,
   "id": "93ba3ed9",
   "metadata": {},
   "outputs": [],
   "source": [
    "model=Sequential()\n",
    "model.add(LSTM(50,return_sequences=True,input_shape=(100,1)))\n",
    "model.add(LSTM(50,return_sequences=True))\n",
    "model.add(LSTM(50))\n",
    "model.add(Dense(1))\n",
    "model.compile(loss='mean_squared_error',optimizer='adam')"
   ]
  },
  {
   "cell_type": "markdown",
   "id": "2c3b1172",
   "metadata": {},
   "source": [
    "Model Summary"
   ]
  },
  {
   "cell_type": "code",
   "execution_count": 26,
   "id": "449760d9",
   "metadata": {},
   "outputs": [
    {
     "name": "stdout",
     "output_type": "stream",
     "text": [
      "Model: \"sequential\"\n",
      "_________________________________________________________________\n",
      " Layer (type)                Output Shape              Param #   \n",
      "=================================================================\n",
      " lstm (LSTM)                 (None, 100, 50)           10400     \n",
      "                                                                 \n",
      " lstm_1 (LSTM)               (None, 100, 50)           20200     \n",
      "                                                                 \n",
      " lstm_2 (LSTM)               (None, 50)                20200     \n",
      "                                                                 \n",
      " dense (Dense)               (None, 1)                 51        \n",
      "                                                                 \n",
      "=================================================================\n",
      "Total params: 50851 (198.64 KB)\n",
      "Trainable params: 50851 (198.64 KB)\n",
      "Non-trainable params: 0 (0.00 Byte)\n",
      "_________________________________________________________________\n"
     ]
    }
   ],
   "source": [
    "model.summary()"
   ]
  },
  {
   "cell_type": "code",
   "execution_count": 27,
   "id": "e68aa2ee",
   "metadata": {},
   "outputs": [
    {
     "name": "stdout",
     "output_type": "stream",
     "text": [
      "Epoch 1/100\n",
      "21/21 [==============================] - 24s 472ms/step - loss: 0.0209 - val_loss: 0.0084\n",
      "Epoch 2/100\n",
      "21/21 [==============================] - 7s 342ms/step - loss: 0.0028 - val_loss: 7.7231e-04\n",
      "Epoch 3/100\n",
      "21/21 [==============================] - 7s 319ms/step - loss: 0.0018 - val_loss: 0.0017\n",
      "Epoch 4/100\n",
      "21/21 [==============================] - 7s 318ms/step - loss: 0.0015 - val_loss: 9.3250e-04\n",
      "Epoch 5/100\n",
      "21/21 [==============================] - 7s 311ms/step - loss: 0.0014 - val_loss: 0.0014\n",
      "Epoch 6/100\n",
      "21/21 [==============================] - 7s 311ms/step - loss: 0.0013 - val_loss: 0.0013\n",
      "Epoch 7/100\n",
      "21/21 [==============================] - 7s 312ms/step - loss: 0.0013 - val_loss: 0.0014\n",
      "Epoch 8/100\n",
      "21/21 [==============================] - 7s 314ms/step - loss: 0.0012 - val_loss: 0.0013\n",
      "Epoch 9/100\n",
      "21/21 [==============================] - 7s 314ms/step - loss: 0.0012 - val_loss: 9.5085e-04\n",
      "Epoch 10/100\n",
      "21/21 [==============================] - 6s 308ms/step - loss: 0.0011 - val_loss: 9.4916e-04\n",
      "Epoch 11/100\n",
      "21/21 [==============================] - 7s 313ms/step - loss: 0.0010 - val_loss: 8.9580e-04\n",
      "Epoch 12/100\n",
      "21/21 [==============================] - 7s 316ms/step - loss: 9.7487e-04 - val_loss: 6.9348e-04\n",
      "Epoch 13/100\n",
      "21/21 [==============================] - 7s 330ms/step - loss: 0.0011 - val_loss: 0.0011\n",
      "Epoch 14/100\n",
      "21/21 [==============================] - 7s 315ms/step - loss: 8.7953e-04 - val_loss: 0.0011\n",
      "Epoch 15/100\n",
      "21/21 [==============================] - 6s 308ms/step - loss: 9.6127e-04 - val_loss: 7.8173e-04\n",
      "Epoch 16/100\n",
      "21/21 [==============================] - 7s 312ms/step - loss: 0.0010 - val_loss: 0.0010\n",
      "Epoch 17/100\n",
      "21/21 [==============================] - 7s 312ms/step - loss: 9.0752e-04 - val_loss: 6.5220e-04\n",
      "Epoch 18/100\n",
      "21/21 [==============================] - 7s 317ms/step - loss: 9.0243e-04 - val_loss: 6.9825e-04\n",
      "Epoch 19/100\n",
      "21/21 [==============================] - 7s 321ms/step - loss: 9.0435e-04 - val_loss: 8.0216e-04\n",
      "Epoch 20/100\n",
      "21/21 [==============================] - 7s 315ms/step - loss: 7.5061e-04 - val_loss: 6.8511e-04\n",
      "Epoch 21/100\n",
      "21/21 [==============================] - 7s 318ms/step - loss: 7.4403e-04 - val_loss: 8.9974e-04\n",
      "Epoch 22/100\n",
      "21/21 [==============================] - 7s 316ms/step - loss: 9.0923e-04 - val_loss: 5.8327e-04\n",
      "Epoch 23/100\n",
      "21/21 [==============================] - 7s 340ms/step - loss: 7.4652e-04 - val_loss: 5.6654e-04\n",
      "Epoch 24/100\n",
      "21/21 [==============================] - 7s 318ms/step - loss: 7.0297e-04 - val_loss: 7.4321e-04\n",
      "Epoch 25/100\n",
      "21/21 [==============================] - 7s 326ms/step - loss: 7.1944e-04 - val_loss: 6.9992e-04\n",
      "Epoch 26/100\n",
      "21/21 [==============================] - 7s 314ms/step - loss: 7.0548e-04 - val_loss: 7.8306e-04\n",
      "Epoch 27/100\n",
      "21/21 [==============================] - 7s 319ms/step - loss: 7.4921e-04 - val_loss: 7.0970e-04\n",
      "Epoch 28/100\n",
      "21/21 [==============================] - 7s 316ms/step - loss: 6.8611e-04 - val_loss: 8.8426e-04\n",
      "Epoch 29/100\n",
      "21/21 [==============================] - 7s 316ms/step - loss: 7.0856e-04 - val_loss: 6.1157e-04\n",
      "Epoch 30/100\n",
      "21/21 [==============================] - 7s 314ms/step - loss: 6.2980e-04 - val_loss: 6.8982e-04\n",
      "Epoch 31/100\n",
      "21/21 [==============================] - 7s 319ms/step - loss: 6.0916e-04 - val_loss: 7.0804e-04\n",
      "Epoch 32/100\n",
      "21/21 [==============================] - 7s 312ms/step - loss: 6.1197e-04 - val_loss: 8.0089e-04\n",
      "Epoch 33/100\n",
      "21/21 [==============================] - 7s 314ms/step - loss: 5.9500e-04 - val_loss: 6.1346e-04\n",
      "Epoch 34/100\n",
      "21/21 [==============================] - 7s 313ms/step - loss: 5.8561e-04 - val_loss: 7.9252e-04\n",
      "Epoch 35/100\n",
      "21/21 [==============================] - 7s 318ms/step - loss: 5.7757e-04 - val_loss: 6.4944e-04\n",
      "Epoch 36/100\n",
      "21/21 [==============================] - 7s 313ms/step - loss: 5.7441e-04 - val_loss: 6.5598e-04\n",
      "Epoch 37/100\n",
      "21/21 [==============================] - 7s 313ms/step - loss: 5.6820e-04 - val_loss: 7.1931e-04\n",
      "Epoch 38/100\n",
      "21/21 [==============================] - 7s 315ms/step - loss: 6.6557e-04 - val_loss: 7.9638e-04\n",
      "Epoch 39/100\n",
      "21/21 [==============================] - 7s 316ms/step - loss: 5.3796e-04 - val_loss: 5.7403e-04\n",
      "Epoch 40/100\n",
      "21/21 [==============================] - 7s 314ms/step - loss: 5.3596e-04 - val_loss: 7.8917e-04\n",
      "Epoch 41/100\n",
      "21/21 [==============================] - 7s 315ms/step - loss: 6.0512e-04 - val_loss: 6.5360e-04\n",
      "Epoch 42/100\n",
      "21/21 [==============================] - 7s 314ms/step - loss: 5.6552e-04 - val_loss: 6.3445e-04\n",
      "Epoch 43/100\n",
      "21/21 [==============================] - 7s 312ms/step - loss: 5.1694e-04 - val_loss: 6.4781e-04\n",
      "Epoch 44/100\n",
      "21/21 [==============================] - 7s 315ms/step - loss: 5.2996e-04 - val_loss: 7.2901e-04\n",
      "Epoch 45/100\n",
      "21/21 [==============================] - 7s 315ms/step - loss: 5.0753e-04 - val_loss: 5.9144e-04\n",
      "Epoch 46/100\n",
      "21/21 [==============================] - 7s 314ms/step - loss: 5.3164e-04 - val_loss: 4.9468e-04\n",
      "Epoch 47/100\n",
      "21/21 [==============================] - 7s 311ms/step - loss: 5.9644e-04 - val_loss: 4.1266e-04\n",
      "Epoch 48/100\n",
      "21/21 [==============================] - 7s 316ms/step - loss: 5.7855e-04 - val_loss: 5.8980e-04\n",
      "Epoch 49/100\n",
      "21/21 [==============================] - 7s 314ms/step - loss: 4.6984e-04 - val_loss: 4.8424e-04\n",
      "Epoch 50/100\n",
      "21/21 [==============================] - 6s 311ms/step - loss: 4.7270e-04 - val_loss: 4.7546e-04\n",
      "Epoch 51/100\n",
      "21/21 [==============================] - 7s 314ms/step - loss: 4.5819e-04 - val_loss: 5.6309e-04\n",
      "Epoch 52/100\n",
      "21/21 [==============================] - 7s 318ms/step - loss: 4.5412e-04 - val_loss: 4.9308e-04\n",
      "Epoch 53/100\n",
      "21/21 [==============================] - 7s 313ms/step - loss: 5.2418e-04 - val_loss: 3.3769e-04\n",
      "Epoch 54/100\n",
      "21/21 [==============================] - 6s 310ms/step - loss: 5.2123e-04 - val_loss: 5.8568e-04\n",
      "Epoch 55/100\n",
      "21/21 [==============================] - 7s 312ms/step - loss: 4.4980e-04 - val_loss: 6.2434e-04\n",
      "Epoch 56/100\n",
      "21/21 [==============================] - 6s 308ms/step - loss: 5.3717e-04 - val_loss: 3.9881e-04\n",
      "Epoch 57/100\n",
      "21/21 [==============================] - 7s 315ms/step - loss: 4.7619e-04 - val_loss: 5.0086e-04\n",
      "Epoch 58/100\n",
      "21/21 [==============================] - 7s 314ms/step - loss: 4.0763e-04 - val_loss: 4.6379e-04\n",
      "Epoch 59/100\n",
      "21/21 [==============================] - 7s 319ms/step - loss: 4.1373e-04 - val_loss: 3.6707e-04\n",
      "Epoch 60/100\n",
      "21/21 [==============================] - 7s 318ms/step - loss: 4.0816e-04 - val_loss: 4.9007e-04\n",
      "Epoch 61/100\n",
      "21/21 [==============================] - 7s 313ms/step - loss: 3.8642e-04 - val_loss: 4.2999e-04\n",
      "Epoch 62/100\n",
      "21/21 [==============================] - 7s 312ms/step - loss: 3.8349e-04 - val_loss: 4.0793e-04\n",
      "Epoch 63/100\n",
      "21/21 [==============================] - 7s 314ms/step - loss: 3.8120e-04 - val_loss: 5.1367e-04\n",
      "Epoch 64/100\n",
      "21/21 [==============================] - 6s 311ms/step - loss: 3.5710e-04 - val_loss: 3.9903e-04\n",
      "Epoch 65/100\n",
      "21/21 [==============================] - 7s 313ms/step - loss: 3.4579e-04 - val_loss: 3.0947e-04\n",
      "Epoch 66/100\n",
      "21/21 [==============================] - 6s 311ms/step - loss: 3.5890e-04 - val_loss: 3.1696e-04\n",
      "Epoch 67/100\n",
      "21/21 [==============================] - 7s 316ms/step - loss: 3.8245e-04 - val_loss: 3.2391e-04\n",
      "Epoch 68/100\n",
      "21/21 [==============================] - 6s 311ms/step - loss: 3.5751e-04 - val_loss: 3.7310e-04\n",
      "Epoch 69/100\n",
      "21/21 [==============================] - 6s 312ms/step - loss: 3.6339e-04 - val_loss: 3.6363e-04\n",
      "Epoch 70/100\n",
      "21/21 [==============================] - 7s 316ms/step - loss: 3.5618e-04 - val_loss: 3.3937e-04\n",
      "Epoch 71/100\n",
      "21/21 [==============================] - 7s 316ms/step - loss: 3.7735e-04 - val_loss: 2.9607e-04\n",
      "Epoch 72/100\n",
      "21/21 [==============================] - 6s 311ms/step - loss: 3.3892e-04 - val_loss: 2.7890e-04\n",
      "Epoch 73/100\n",
      "21/21 [==============================] - 7s 316ms/step - loss: 3.1889e-04 - val_loss: 3.2760e-04\n",
      "Epoch 74/100\n",
      "21/21 [==============================] - 6s 311ms/step - loss: 3.1178e-04 - val_loss: 5.8573e-04\n",
      "Epoch 75/100\n",
      "21/21 [==============================] - 6s 310ms/step - loss: 3.9260e-04 - val_loss: 3.5147e-04\n",
      "Epoch 76/100\n",
      "21/21 [==============================] - 7s 321ms/step - loss: 3.3420e-04 - val_loss: 3.2807e-04\n",
      "Epoch 77/100\n",
      "21/21 [==============================] - 7s 314ms/step - loss: 3.3898e-04 - val_loss: 4.5138e-04\n",
      "Epoch 78/100\n",
      "21/21 [==============================] - 7s 325ms/step - loss: 3.0771e-04 - val_loss: 3.5344e-04\n",
      "Epoch 79/100\n",
      "21/21 [==============================] - 7s 319ms/step - loss: 2.9380e-04 - val_loss: 2.5983e-04\n",
      "Epoch 80/100\n",
      "21/21 [==============================] - 7s 316ms/step - loss: 3.1259e-04 - val_loss: 3.5081e-04\n",
      "Epoch 81/100\n",
      "21/21 [==============================] - 7s 315ms/step - loss: 2.8699e-04 - val_loss: 3.1183e-04\n",
      "Epoch 82/100\n",
      "21/21 [==============================] - 7s 314ms/step - loss: 2.7608e-04 - val_loss: 3.3805e-04\n",
      "Epoch 83/100\n",
      "21/21 [==============================] - 7s 318ms/step - loss: 2.7704e-04 - val_loss: 3.2246e-04\n",
      "Epoch 84/100\n",
      "21/21 [==============================] - 7s 318ms/step - loss: 2.9725e-04 - val_loss: 2.5319e-04\n",
      "Epoch 85/100\n",
      "21/21 [==============================] - 7s 314ms/step - loss: 3.3204e-04 - val_loss: 4.9008e-04\n",
      "Epoch 86/100\n",
      "21/21 [==============================] - 10s 464ms/step - loss: 3.0802e-04 - val_loss: 2.9806e-04\n",
      "Epoch 87/100\n",
      "21/21 [==============================] - 7s 349ms/step - loss: 2.9392e-04 - val_loss: 2.6433e-04\n",
      "Epoch 88/100\n",
      "21/21 [==============================] - 7s 329ms/step - loss: 3.7824e-04 - val_loss: 3.7575e-04\n",
      "Epoch 89/100\n",
      "21/21 [==============================] - 8s 376ms/step - loss: 3.3045e-04 - val_loss: 2.1064e-04\n",
      "Epoch 90/100\n",
      "21/21 [==============================] - 7s 346ms/step - loss: 3.0424e-04 - val_loss: 2.1186e-04\n",
      "Epoch 91/100\n",
      "21/21 [==============================] - 7s 328ms/step - loss: 2.7429e-04 - val_loss: 2.9379e-04\n",
      "Epoch 92/100\n",
      "21/21 [==============================] - 7s 320ms/step - loss: 2.6009e-04 - val_loss: 2.5566e-04\n",
      "Epoch 93/100\n",
      "21/21 [==============================] - 7s 316ms/step - loss: 3.1237e-04 - val_loss: 2.0831e-04\n",
      "Epoch 94/100\n",
      "21/21 [==============================] - 7s 320ms/step - loss: 3.2579e-04 - val_loss: 2.6997e-04\n",
      "Epoch 95/100\n",
      "21/21 [==============================] - 7s 331ms/step - loss: 2.9626e-04 - val_loss: 3.6726e-04\n",
      "Epoch 96/100\n",
      "21/21 [==============================] - 7s 323ms/step - loss: 2.7003e-04 - val_loss: 2.3334e-04\n",
      "Epoch 97/100\n",
      "21/21 [==============================] - 7s 314ms/step - loss: 2.6632e-04 - val_loss: 1.9129e-04\n",
      "Epoch 98/100\n",
      "21/21 [==============================] - 6s 310ms/step - loss: 2.7738e-04 - val_loss: 2.3490e-04\n",
      "Epoch 99/100\n",
      "21/21 [==============================] - 7s 323ms/step - loss: 3.3920e-04 - val_loss: 2.5547e-04\n",
      "Epoch 100/100\n",
      "21/21 [==============================] - 7s 315ms/step - loss: 2.5570e-04 - val_loss: 2.0098e-04\n"
     ]
    },
    {
     "data": {
      "text/plain": [
       "<keras.src.callbacks.History at 0x287cd3c6760>"
      ]
     },
     "execution_count": 27,
     "metadata": {},
     "output_type": "execute_result"
    }
   ],
   "source": [
    "model.fit(X_train,y_train,validation_data=(X_test,y_test),epochs=100,batch_size=64,verbose=1)"
   ]
  },
  {
   "cell_type": "code",
   "execution_count": 28,
   "id": "30668f9a",
   "metadata": {},
   "outputs": [
    {
     "name": "stdout",
     "output_type": "stream",
     "text": [
      "42/42 [==============================] - 5s 69ms/step\n",
      "16/16 [==============================] - 1s 69ms/step\n"
     ]
    }
   ],
   "source": [
    "# Lets Do the prediction and check performance metrics\n",
    "train_predict=model.predict(X_train)\n",
    "test_predict=model.predict(X_test)"
   ]
  },
  {
   "cell_type": "code",
   "execution_count": 29,
   "id": "b358f18c",
   "metadata": {},
   "outputs": [],
   "source": [
    "# Transformback to original form\n",
    "train_predict=scaler.inverse_transform(train_predict)\n",
    "test_predict=scaler.inverse_transform(test_predict)"
   ]
  },
  {
   "cell_type": "markdown",
   "id": "ac44f87c",
   "metadata": {},
   "source": [
    "# Evaluation"
   ]
  },
  {
   "cell_type": "code",
   "execution_count": 30,
   "id": "33c41db6",
   "metadata": {},
   "outputs": [
    {
     "data": {
      "text/plain": [
       "162.41066544685137"
      ]
     },
     "execution_count": 30,
     "metadata": {},
     "output_type": "execute_result"
    }
   ],
   "source": [
    "# Calculate RMSE performance metrics\n",
    "import math\n",
    "from sklearn.metrics import mean_squared_error\n",
    "math.sqrt(mean_squared_error(y_train,train_predict))"
   ]
  },
  {
   "cell_type": "code",
   "execution_count": 31,
   "id": "4c01de9b",
   "metadata": {},
   "outputs": [
    {
     "data": {
      "text/plain": [
       "107.18322587531095"
      ]
     },
     "execution_count": 31,
     "metadata": {},
     "output_type": "execute_result"
    }
   ],
   "source": [
    "# Test Data RMSE\n",
    "math.sqrt(mean_squared_error(y_test,test_predict))"
   ]
  },
  {
   "cell_type": "code",
   "execution_count": null,
   "id": "c060fbbb",
   "metadata": {},
   "outputs": [],
   "source": []
  }
 ],
 "metadata": {
  "kernelspec": {
   "display_name": "Python 3 (ipykernel)",
   "language": "python",
   "name": "python3"
  },
  "language_info": {
   "codemirror_mode": {
    "name": "ipython",
    "version": 3
   },
   "file_extension": ".py",
   "mimetype": "text/x-python",
   "name": "python",
   "nbconvert_exporter": "python",
   "pygments_lexer": "ipython3",
   "version": "3.9.13"
  }
 },
 "nbformat": 4,
 "nbformat_minor": 5
}
